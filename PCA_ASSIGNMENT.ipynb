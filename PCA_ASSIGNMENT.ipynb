{
 "cells": [
  {
   "cell_type": "markdown",
   "metadata": {},
   "source": [
    "## PROBLEM STATEMENT"
   ]
  },
  {
   "cell_type": "markdown",
   "metadata": {},
   "source": [
    "HELP International is an international humanitarian NGO that is committed to fighting poverty and providing the people of backward countries with basic amenities and relief during the time of disasters and natural calamities. It runs a lot of operational projects from time to time along with advocacy drives to raise awareness as well as for funding purposes.\n",
    "\n",
    " \n",
    "\n",
    "After the recent funding programmes, they have been able to raise around $ 10 million. Now the CEO of the NGO needs to decide how to use this money strategically and effectively. The significant issues that come while making this decision are mostly related to choosing the countries that are in the direst need of aid. \n",
    "\n",
    " \n",
    "\n",
    "And this is where you come in as a data analyst. Your job is to categorise the countries using some socio-economic and health factors that determine the overall development of the country. Then you need to suggest the countries which the CEO needs to focus on the most."
   ]
  },
  {
   "cell_type": "markdown",
   "metadata": {},
   "source": [
    "## ANALYSIS FOR GIVEN DATASET AND PROBLEM STATEMENT"
   ]
  },
  {
   "cell_type": "markdown",
   "metadata": {},
   "source": [
    "### STEP 1: READING AND UNDERSTANDING DATA"
   ]
  },
  {
   "cell_type": "code",
   "execution_count": 2,
   "metadata": {
    "scrolled": false
   },
   "outputs": [],
   "source": [
    "# Standard libraries\n",
    "\n",
    "import pandas as pd\n",
    "import numpy as np\n",
    "\n",
    "\n",
    "# For Visualisation\n",
    "import matplotlib.pyplot as plt\n",
    "import seaborn as sns\n",
    "%matplotlib inline\n",
    "\n",
    "# To Scale our data\n",
    "from sklearn.preprocessing import scale\n",
    "\n",
    "# To perform KMeans clustering \n",
    "from sklearn.cluster import KMeans\n",
    "\n",
    "# To perform Hierarchical clustering\n",
    "from scipy.cluster.hierarchy import linkage\n",
    "from scipy.cluster.hierarchy import dendrogram\n",
    "from scipy.cluster.hierarchy import cut_tree"
   ]
  },
  {
   "cell_type": "code",
   "execution_count": 3,
   "metadata": {
    "scrolled": false
   },
   "outputs": [],
   "source": [
    "df_country=pd.read_csv(r\"C:\\Users\\Ankita Rath\\Downloads\\PCA_Clustering_Assignment\\Country-data.csv\")"
   ]
  },
  {
   "cell_type": "code",
   "execution_count": 4,
   "metadata": {
    "scrolled": false
   },
   "outputs": [
    {
     "data": {
      "text/html": [
       "<div>\n",
       "<style scoped>\n",
       "    .dataframe tbody tr th:only-of-type {\n",
       "        vertical-align: middle;\n",
       "    }\n",
       "\n",
       "    .dataframe tbody tr th {\n",
       "        vertical-align: top;\n",
       "    }\n",
       "\n",
       "    .dataframe thead th {\n",
       "        text-align: right;\n",
       "    }\n",
       "</style>\n",
       "<table border=\"1\" class=\"dataframe\">\n",
       "  <thead>\n",
       "    <tr style=\"text-align: right;\">\n",
       "      <th></th>\n",
       "      <th>country</th>\n",
       "      <th>child_mort</th>\n",
       "      <th>exports</th>\n",
       "      <th>health</th>\n",
       "      <th>imports</th>\n",
       "      <th>income</th>\n",
       "      <th>inflation</th>\n",
       "      <th>life_expec</th>\n",
       "      <th>total_fer</th>\n",
       "      <th>gdpp</th>\n",
       "    </tr>\n",
       "  </thead>\n",
       "  <tbody>\n",
       "    <tr>\n",
       "      <th>0</th>\n",
       "      <td>Afghanistan</td>\n",
       "      <td>90.2</td>\n",
       "      <td>10.0</td>\n",
       "      <td>7.58</td>\n",
       "      <td>44.9</td>\n",
       "      <td>1610</td>\n",
       "      <td>9.44</td>\n",
       "      <td>56.2</td>\n",
       "      <td>5.82</td>\n",
       "      <td>553</td>\n",
       "    </tr>\n",
       "    <tr>\n",
       "      <th>1</th>\n",
       "      <td>Albania</td>\n",
       "      <td>16.6</td>\n",
       "      <td>28.0</td>\n",
       "      <td>6.55</td>\n",
       "      <td>48.6</td>\n",
       "      <td>9930</td>\n",
       "      <td>4.49</td>\n",
       "      <td>76.3</td>\n",
       "      <td>1.65</td>\n",
       "      <td>4090</td>\n",
       "    </tr>\n",
       "    <tr>\n",
       "      <th>2</th>\n",
       "      <td>Algeria</td>\n",
       "      <td>27.3</td>\n",
       "      <td>38.4</td>\n",
       "      <td>4.17</td>\n",
       "      <td>31.4</td>\n",
       "      <td>12900</td>\n",
       "      <td>16.10</td>\n",
       "      <td>76.5</td>\n",
       "      <td>2.89</td>\n",
       "      <td>4460</td>\n",
       "    </tr>\n",
       "    <tr>\n",
       "      <th>3</th>\n",
       "      <td>Angola</td>\n",
       "      <td>119.0</td>\n",
       "      <td>62.3</td>\n",
       "      <td>2.85</td>\n",
       "      <td>42.9</td>\n",
       "      <td>5900</td>\n",
       "      <td>22.40</td>\n",
       "      <td>60.1</td>\n",
       "      <td>6.16</td>\n",
       "      <td>3530</td>\n",
       "    </tr>\n",
       "    <tr>\n",
       "      <th>4</th>\n",
       "      <td>Antigua and Barbuda</td>\n",
       "      <td>10.3</td>\n",
       "      <td>45.5</td>\n",
       "      <td>6.03</td>\n",
       "      <td>58.9</td>\n",
       "      <td>19100</td>\n",
       "      <td>1.44</td>\n",
       "      <td>76.8</td>\n",
       "      <td>2.13</td>\n",
       "      <td>12200</td>\n",
       "    </tr>\n",
       "  </tbody>\n",
       "</table>\n",
       "</div>"
      ],
      "text/plain": [
       "               country  child_mort  exports  health  imports  income  \\\n",
       "0          Afghanistan        90.2     10.0    7.58     44.9    1610   \n",
       "1              Albania        16.6     28.0    6.55     48.6    9930   \n",
       "2              Algeria        27.3     38.4    4.17     31.4   12900   \n",
       "3               Angola       119.0     62.3    2.85     42.9    5900   \n",
       "4  Antigua and Barbuda        10.3     45.5    6.03     58.9   19100   \n",
       "\n",
       "   inflation  life_expec  total_fer   gdpp  \n",
       "0       9.44        56.2       5.82    553  \n",
       "1       4.49        76.3       1.65   4090  \n",
       "2      16.10        76.5       2.89   4460  \n",
       "3      22.40        60.1       6.16   3530  \n",
       "4       1.44        76.8       2.13  12200  "
      ]
     },
     "execution_count": 4,
     "metadata": {},
     "output_type": "execute_result"
    }
   ],
   "source": [
    "df_country.head()"
   ]
  },
  {
   "cell_type": "code",
   "execution_count": 5,
   "metadata": {
    "scrolled": false
   },
   "outputs": [
    {
     "name": "stdout",
     "output_type": "stream",
     "text": [
      "<class 'pandas.core.frame.DataFrame'>\n",
      "RangeIndex: 167 entries, 0 to 166\n",
      "Data columns (total 10 columns):\n",
      "country       167 non-null object\n",
      "child_mort    167 non-null float64\n",
      "exports       167 non-null float64\n",
      "health        167 non-null float64\n",
      "imports       167 non-null float64\n",
      "income        167 non-null int64\n",
      "inflation     167 non-null float64\n",
      "life_expec    167 non-null float64\n",
      "total_fer     167 non-null float64\n",
      "gdpp          167 non-null int64\n",
      "dtypes: float64(7), int64(2), object(1)\n",
      "memory usage: 13.1+ KB\n"
     ]
    }
   ],
   "source": [
    "# Firstly we need to find the number of null values in the given dataset. \n",
    "df_country.info()"
   ]
  },
  {
   "cell_type": "code",
   "execution_count": 6,
   "metadata": {
    "scrolled": false
   },
   "outputs": [
    {
     "data": {
      "text/plain": [
       "country       0.0\n",
       "child_mort    0.0\n",
       "exports       0.0\n",
       "health        0.0\n",
       "imports       0.0\n",
       "income        0.0\n",
       "inflation     0.0\n",
       "life_expec    0.0\n",
       "total_fer     0.0\n",
       "gdpp          0.0\n",
       "dtype: float64"
      ]
     },
     "execution_count": 6,
     "metadata": {},
     "output_type": "execute_result"
    }
   ],
   "source": [
    "# % of null values in the dataset\n",
    "round(100*(df_country.isnull().sum()/len(df_country.index)), 2)"
   ]
  },
  {
   "cell_type": "markdown",
   "metadata": {},
   "source": [
    "- All columns are not having null values and except country rest all are integer or float columns"
   ]
  },
  {
   "cell_type": "code",
   "execution_count": 7,
   "metadata": {
    "scrolled": true
   },
   "outputs": [
    {
     "data": {
      "text/plain": [
       "Index(['country', 'child_mort', 'exports', 'health', 'imports', 'income',\n",
       "       'inflation', 'life_expec', 'total_fer', 'gdpp'],\n",
       "      dtype='object')"
      ]
     },
     "execution_count": 7,
     "metadata": {},
     "output_type": "execute_result"
    }
   ],
   "source": [
    "df_country.columns"
   ]
  },
  {
   "cell_type": "code",
   "execution_count": 8,
   "metadata": {
    "scrolled": true
   },
   "outputs": [],
   "source": [
    "df_countries=df_country['country']\n",
    "df_columns=df_country[['child_mort', 'exports', 'health', 'imports', 'income',\n",
    "       'inflation', 'life_expec', 'total_fer', 'gdpp']]"
   ]
  },
  {
   "cell_type": "markdown",
   "metadata": {},
   "source": [
    "### CHECKING FOR OUTLIERS"
   ]
  },
  {
   "cell_type": "code",
   "execution_count": 9,
   "metadata": {
    "scrolled": true
   },
   "outputs": [
    {
     "data": {
      "text/html": [
       "<div>\n",
       "<style scoped>\n",
       "    .dataframe tbody tr th:only-of-type {\n",
       "        vertical-align: middle;\n",
       "    }\n",
       "\n",
       "    .dataframe tbody tr th {\n",
       "        vertical-align: top;\n",
       "    }\n",
       "\n",
       "    .dataframe thead th {\n",
       "        text-align: right;\n",
       "    }\n",
       "</style>\n",
       "<table border=\"1\" class=\"dataframe\">\n",
       "  <thead>\n",
       "    <tr style=\"text-align: right;\">\n",
       "      <th></th>\n",
       "      <th>child_mort</th>\n",
       "      <th>exports</th>\n",
       "      <th>health</th>\n",
       "      <th>imports</th>\n",
       "      <th>income</th>\n",
       "      <th>inflation</th>\n",
       "      <th>life_expec</th>\n",
       "      <th>total_fer</th>\n",
       "      <th>gdpp</th>\n",
       "    </tr>\n",
       "  </thead>\n",
       "  <tbody>\n",
       "    <tr>\n",
       "      <th>count</th>\n",
       "      <td>167.000000</td>\n",
       "      <td>167.000000</td>\n",
       "      <td>167.000000</td>\n",
       "      <td>167.000000</td>\n",
       "      <td>167.000000</td>\n",
       "      <td>167.000000</td>\n",
       "      <td>167.000000</td>\n",
       "      <td>167.000000</td>\n",
       "      <td>167.000000</td>\n",
       "    </tr>\n",
       "    <tr>\n",
       "      <th>mean</th>\n",
       "      <td>38.270060</td>\n",
       "      <td>41.108976</td>\n",
       "      <td>6.815689</td>\n",
       "      <td>46.890215</td>\n",
       "      <td>17144.688623</td>\n",
       "      <td>7.781832</td>\n",
       "      <td>70.555689</td>\n",
       "      <td>2.947964</td>\n",
       "      <td>12964.155689</td>\n",
       "    </tr>\n",
       "    <tr>\n",
       "      <th>std</th>\n",
       "      <td>40.328931</td>\n",
       "      <td>27.412010</td>\n",
       "      <td>2.746837</td>\n",
       "      <td>24.209589</td>\n",
       "      <td>19278.067698</td>\n",
       "      <td>10.570704</td>\n",
       "      <td>8.893172</td>\n",
       "      <td>1.513848</td>\n",
       "      <td>18328.704809</td>\n",
       "    </tr>\n",
       "    <tr>\n",
       "      <th>min</th>\n",
       "      <td>2.600000</td>\n",
       "      <td>0.109000</td>\n",
       "      <td>1.810000</td>\n",
       "      <td>0.065900</td>\n",
       "      <td>609.000000</td>\n",
       "      <td>-4.210000</td>\n",
       "      <td>32.100000</td>\n",
       "      <td>1.150000</td>\n",
       "      <td>231.000000</td>\n",
       "    </tr>\n",
       "    <tr>\n",
       "      <th>25%</th>\n",
       "      <td>8.250000</td>\n",
       "      <td>23.800000</td>\n",
       "      <td>4.920000</td>\n",
       "      <td>30.200000</td>\n",
       "      <td>3355.000000</td>\n",
       "      <td>1.810000</td>\n",
       "      <td>65.300000</td>\n",
       "      <td>1.795000</td>\n",
       "      <td>1330.000000</td>\n",
       "    </tr>\n",
       "    <tr>\n",
       "      <th>50%</th>\n",
       "      <td>19.300000</td>\n",
       "      <td>35.000000</td>\n",
       "      <td>6.320000</td>\n",
       "      <td>43.300000</td>\n",
       "      <td>9960.000000</td>\n",
       "      <td>5.390000</td>\n",
       "      <td>73.100000</td>\n",
       "      <td>2.410000</td>\n",
       "      <td>4660.000000</td>\n",
       "    </tr>\n",
       "    <tr>\n",
       "      <th>75%</th>\n",
       "      <td>62.100000</td>\n",
       "      <td>51.350000</td>\n",
       "      <td>8.600000</td>\n",
       "      <td>58.750000</td>\n",
       "      <td>22800.000000</td>\n",
       "      <td>10.750000</td>\n",
       "      <td>76.800000</td>\n",
       "      <td>3.880000</td>\n",
       "      <td>14050.000000</td>\n",
       "    </tr>\n",
       "    <tr>\n",
       "      <th>90%</th>\n",
       "      <td>100.220000</td>\n",
       "      <td>70.800000</td>\n",
       "      <td>10.940000</td>\n",
       "      <td>75.420000</td>\n",
       "      <td>41220.000000</td>\n",
       "      <td>16.640000</td>\n",
       "      <td>80.400000</td>\n",
       "      <td>5.322000</td>\n",
       "      <td>41840.000000</td>\n",
       "    </tr>\n",
       "    <tr>\n",
       "      <th>95%</th>\n",
       "      <td>116.000000</td>\n",
       "      <td>80.570000</td>\n",
       "      <td>11.570000</td>\n",
       "      <td>81.140000</td>\n",
       "      <td>48290.000000</td>\n",
       "      <td>20.870000</td>\n",
       "      <td>81.400000</td>\n",
       "      <td>5.861000</td>\n",
       "      <td>48610.000000</td>\n",
       "    </tr>\n",
       "    <tr>\n",
       "      <th>99%</th>\n",
       "      <td>153.400000</td>\n",
       "      <td>160.480000</td>\n",
       "      <td>13.474000</td>\n",
       "      <td>146.080000</td>\n",
       "      <td>84374.000000</td>\n",
       "      <td>41.478000</td>\n",
       "      <td>82.370000</td>\n",
       "      <td>6.563600</td>\n",
       "      <td>79088.000000</td>\n",
       "    </tr>\n",
       "    <tr>\n",
       "      <th>max</th>\n",
       "      <td>208.000000</td>\n",
       "      <td>200.000000</td>\n",
       "      <td>17.900000</td>\n",
       "      <td>174.000000</td>\n",
       "      <td>125000.000000</td>\n",
       "      <td>104.000000</td>\n",
       "      <td>82.800000</td>\n",
       "      <td>7.490000</td>\n",
       "      <td>105000.000000</td>\n",
       "    </tr>\n",
       "  </tbody>\n",
       "</table>\n",
       "</div>"
      ],
      "text/plain": [
       "       child_mort     exports      health     imports         income  \\\n",
       "count  167.000000  167.000000  167.000000  167.000000     167.000000   \n",
       "mean    38.270060   41.108976    6.815689   46.890215   17144.688623   \n",
       "std     40.328931   27.412010    2.746837   24.209589   19278.067698   \n",
       "min      2.600000    0.109000    1.810000    0.065900     609.000000   \n",
       "25%      8.250000   23.800000    4.920000   30.200000    3355.000000   \n",
       "50%     19.300000   35.000000    6.320000   43.300000    9960.000000   \n",
       "75%     62.100000   51.350000    8.600000   58.750000   22800.000000   \n",
       "90%    100.220000   70.800000   10.940000   75.420000   41220.000000   \n",
       "95%    116.000000   80.570000   11.570000   81.140000   48290.000000   \n",
       "99%    153.400000  160.480000   13.474000  146.080000   84374.000000   \n",
       "max    208.000000  200.000000   17.900000  174.000000  125000.000000   \n",
       "\n",
       "        inflation  life_expec   total_fer           gdpp  \n",
       "count  167.000000  167.000000  167.000000     167.000000  \n",
       "mean     7.781832   70.555689    2.947964   12964.155689  \n",
       "std     10.570704    8.893172    1.513848   18328.704809  \n",
       "min     -4.210000   32.100000    1.150000     231.000000  \n",
       "25%      1.810000   65.300000    1.795000    1330.000000  \n",
       "50%      5.390000   73.100000    2.410000    4660.000000  \n",
       "75%     10.750000   76.800000    3.880000   14050.000000  \n",
       "90%     16.640000   80.400000    5.322000   41840.000000  \n",
       "95%     20.870000   81.400000    5.861000   48610.000000  \n",
       "99%     41.478000   82.370000    6.563600   79088.000000  \n",
       "max    104.000000   82.800000    7.490000  105000.000000  "
      ]
     },
     "execution_count": 9,
     "metadata": {},
     "output_type": "execute_result"
    }
   ],
   "source": [
    "# Checking outliers at 25%,50%,75%,90%,95% and 99%\n",
    "df_country.describe(percentiles=[.25,.5,.75,.90,.95,.99])"
   ]
  },
  {
   "cell_type": "markdown",
   "metadata": {},
   "source": [
    "- As we can see that there are gradual change in the outliers and also not to loose minimum and maximum values as it have a specific identification which would be used for identification of backward countries"
   ]
  },
  {
   "cell_type": "markdown",
   "metadata": {},
   "source": [
    "### EDA"
   ]
  },
  {
   "cell_type": "markdown",
   "metadata": {},
   "source": [
    "- Column description:\n",
    "    - Child Mortality Rate : Death of children under 5 years of age per 1000\n",
    "    - Fertility Rate: Children that would be born to each women.\n",
    "    - Life Expectancy: If the current mortality remains same, a new born child would remain alive\n",
    "    - Health : Health as % of total GDP\n",
    "    - The GDP per capita(gdpp) : GDP / Total population\n",
    "    - Per capita Income : Net income per person\n",
    "    - Inflation: Annual growth rate of the Total GDP\n",
    "    - Exports: Exports of goods and services.\n",
    "    - Imports: Imports of goods and services. "
   ]
  },
  {
   "cell_type": "code",
   "execution_count": 10,
   "metadata": {
    "scrolled": true
   },
   "outputs": [
    {
     "data": {
      "image/png": "[encoded data removed]",
      "text/plain": [
       "<Figure size 1080x1080 with 9 Axes>"
      ]
     },
     "metadata": {
      "needs_background": "light"
     },
     "output_type": "display_data"
    }
   ],
   "source": [
    "# UNIVARIATE ANALYSIS\n",
    "\n",
    "## Code to run all the box plot for all numerical columns in the given dataset\n",
    "\n",
    "fig, axis = plt.subplots(3,3,figsize = (15,15))\n",
    "\n",
    "j=0\n",
    "k=0\n",
    "for i in df_columns:\n",
    "    plt_columns=sns.boxplot(y=df_country[i],ax=axis[j,k])\n",
    "    plt_columns.set(xlabel = '', ylabel= i)\n",
    "    plt.show\n",
    "    k+=1\n",
    "    if k==3:\n",
    "        j+=1\n",
    "        k=0\n",
    "        \n",
    "plt.tight_layout()\n",
    "plt.savefig('eda')\n",
    "plt.show()"
   ]
  },
  {
   "cell_type": "code",
   "execution_count": 11,
   "metadata": {
    "scrolled": true
   },
   "outputs": [
    {
     "data": {
      "image/png": "[encoded data removed]",
      "text/plain": [
       "<Figure size 1080x1080 with 9 Axes>"
      ]
     },
     "metadata": {
      "needs_background": "light"
     },
     "output_type": "display_data"
    }
   ],
   "source": [
    "## Bivariate Analysis on all columns with country.\n",
    "\n",
    "fig, axs = plt.subplots(3,3,figsize = (15,15))\n",
    "\n",
    "j=0\n",
    "k=0\n",
    "for i in df_columns:\n",
    "    df_bivariate = df_country[['country',i]].sort_values(i, ascending = False).head(10)\n",
    "    plt1 = sns.barplot(x='country', y=i, data= df_bivariate,ax=axs[j,k])\n",
    "    plt1.set(xlabel = '', ylabel= i)\n",
    "    plt.show\n",
    "    k+=1\n",
    "    if k==3:\n",
    "        j+=1\n",
    "        k=0\n",
    "        \n",
    "for ax in fig.axes:\n",
    "    plt.sca(ax)\n",
    "    plt.xticks(rotation = 90)\n",
    "    \n",
    "plt.tight_layout()\n",
    "plt.savefig('eda')\n",
    "plt.show()"
   ]
  },
  {
   "cell_type": "markdown",
   "metadata": {},
   "source": [
    "- These plots are having higher values for all columns."
   ]
  },
  {
   "cell_type": "code",
   "execution_count": 12,
   "metadata": {
    "scrolled": true
   },
   "outputs": [
    {
     "data": {
      "image/png": "[encoded data removed]",
      "text/plain": [
       "<Figure size 1080x1080 with 9 Axes>"
      ]
     },
     "metadata": {
      "needs_background": "light"
     },
     "output_type": "display_data"
    }
   ],
   "source": [
    "## Bivariate Analysis on all columns with country.\n",
    "\n",
    "fig, axs = plt.subplots(3,3,figsize = (15,15))\n",
    "\n",
    "j=0\n",
    "k=0\n",
    "for i in df_columns:\n",
    "    df_bivariate = df_country[['country',i]].sort_values(i, ascending = True).head(10)\n",
    "    plt1 = sns.barplot(x='country', y=i, data= df_bivariate,ax=axs[j,k])\n",
    "    plt1.set(xlabel = '', ylabel= i)\n",
    "    plt.show\n",
    "    k+=1\n",
    "    if k==3:\n",
    "        j+=1\n",
    "        k=0\n",
    "        \n",
    "for ax in fig.axes:\n",
    "    plt.sca(ax)\n",
    "    plt.xticks(rotation = 90)\n",
    "    \n",
    "plt.tight_layout()\n",
    "plt.savefig('eda')\n",
    "plt.show()"
   ]
  },
  {
   "cell_type": "markdown",
   "metadata": {},
   "source": [
    "- These plots are having lesser values in the columns i.e., ascending = True"
   ]
  },
  {
   "cell_type": "code",
   "execution_count": 13,
   "metadata": {},
   "outputs": [
    {
     "data": {
      "image/png": "[encoded data removed]",
      "text/plain": [
       "<Figure size 1152x720 with 2 Axes>"
      ]
     },
     "metadata": {
      "needs_background": "light"
     },
     "output_type": "display_data"
    }
   ],
   "source": [
    "# Correlation among the varaibles\n",
    "\n",
    "plt.figure(figsize = (16, 10))\n",
    "sns.heatmap(df_country.corr(), annot = True, cmap=\"YlGnBu\")\n",
    "plt.savefig('HEATMAP')\n",
    "plt.show()"
   ]
  },
  {
   "cell_type": "markdown",
   "metadata": {},
   "source": [
    "#### Insights\n",
    "- Child Mortality : Least in iceland and Highest in Haiti\n",
    "- gdpp: Least in Burundi and highest in Luxemborg\n",
    "- income : Least in Congo, Dem..Rep and Highest in Quatar"
   ]
  },
  {
   "cell_type": "markdown",
   "metadata": {},
   "source": [
    "### STEP 2: PRINICIPAL COMPONENT ANALYSIS"
   ]
  },
  {
   "cell_type": "code",
   "execution_count": 14,
   "metadata": {
    "scrolled": false
   },
   "outputs": [
    {
     "name": "stderr",
     "output_type": "stream",
     "text": [
      "C:\\Users\\Ankita Rath\\Anaconda4\\lib\\site-packages\\sklearn\\preprocessing\\data.py:645: DataConversionWarning: Data with input dtype int64, float64 were all converted to float64 by StandardScaler.\n",
      "  return self.partial_fit(X, y)\n",
      "C:\\Users\\Ankita Rath\\Anaconda4\\lib\\site-packages\\sklearn\\base.py:464: DataConversionWarning: Data with input dtype int64, float64 were all converted to float64 by StandardScaler.\n",
      "  return self.fit(X, **fit_params).transform(X)\n"
     ]
    }
   ],
   "source": [
    "## Pricinipal component analysis on all values\n",
    "from sklearn.preprocessing import StandardScaler\n",
    "standard_scaler = StandardScaler()\n",
    "np_columns = standard_scaler.fit_transform(df_columns)"
   ]
  },
  {
   "cell_type": "code",
   "execution_count": 15,
   "metadata": {
    "scrolled": false
   },
   "outputs": [
    {
     "data": {
      "text/plain": [
       "array([[ 1.29153238, -1.13827979,  0.27908825, ..., -1.61909203,\n",
       "         1.90288227, -0.67917961],\n",
       "       [-0.5389489 , -0.47965843, -0.09701618, ...,  0.64786643,\n",
       "        -0.85997281, -0.48562324],\n",
       "       [-0.27283273, -0.09912164, -0.96607302, ...,  0.67042323,\n",
       "        -0.0384044 , -0.46537561],\n",
       "       ...,\n",
       "       [-0.37231541,  1.13030491,  0.0088773 , ...,  0.28695762,\n",
       "        -0.66120626, -0.63775406],\n",
       "       [ 0.44841668, -0.40647827, -0.59727159, ..., -0.34463279,\n",
       "         1.14094382, -0.63775406],\n",
       "       [ 1.11495062, -0.15034774, -0.33801514, ..., -2.09278484,\n",
       "         1.6246091 , -0.62954556]])"
      ]
     },
     "execution_count": 15,
     "metadata": {},
     "output_type": "execute_result"
    }
   ],
   "source": [
    "np_columns"
   ]
  },
  {
   "cell_type": "code",
   "execution_count": 16,
   "metadata": {
    "scrolled": true
   },
   "outputs": [],
   "source": [
    "#Importing the PCA module\n",
    "from sklearn.decomposition import PCA\n",
    "pca = PCA(svd_solver='randomized', random_state=42)"
   ]
  },
  {
   "cell_type": "code",
   "execution_count": 17,
   "metadata": {
    "scrolled": true
   },
   "outputs": [
    {
     "data": {
      "text/plain": [
       "PCA(copy=True, iterated_power='auto', n_components=None, random_state=42,\n",
       "  svd_solver='randomized', tol=0.0, whiten=False)"
      ]
     },
     "execution_count": 17,
     "metadata": {},
     "output_type": "execute_result"
    }
   ],
   "source": [
    "#Performing the PCA\n",
    "pca.fit(np_columns)"
   ]
  },
  {
   "cell_type": "code",
   "execution_count": 18,
   "metadata": {
    "scrolled": true
   },
   "outputs": [
    {
     "data": {
      "text/plain": [
       "array([[-0.41951945,  0.28389698,  0.15083782,  0.16148244,  0.39844111,\n",
       "        -0.19317293,  0.42583938, -0.40372896,  0.39264482],\n",
       "       [ 0.19288394,  0.61316349, -0.24308678,  0.67182064,  0.02253553,\n",
       "        -0.00840447, -0.22270674,  0.15523311, -0.0460224 ],\n",
       "       [-0.02954353,  0.14476069, -0.59663237, -0.29992674,  0.3015475 ,\n",
       "         0.64251951,  0.11391854,  0.01954925,  0.12297749],\n",
       "       [ 0.37065326,  0.00309102,  0.4618975 , -0.07190746,  0.39215904,\n",
       "         0.15044176, -0.20379723,  0.37830365,  0.53199457],\n",
       "       [-0.16896968,  0.05761584,  0.51800037,  0.25537642, -0.2471496 ,\n",
       "         0.7148691 ,  0.1082198 , -0.13526221, -0.18016662],\n",
       "       [ 0.20062815, -0.05933283,  0.00727646, -0.03003154,  0.16034699,\n",
       "         0.06628537, -0.60112652, -0.75068875,  0.01677876],\n",
       "       [-0.07948854, -0.70730269, -0.24983051,  0.59218953,  0.09556237,\n",
       "         0.10463252,  0.01848639,  0.02882643,  0.24299776],\n",
       "       [-0.68274306, -0.01419742,  0.07249683, -0.02894642,  0.35262369,\n",
       "        -0.01153775, -0.50466425,  0.29335267, -0.24969636],\n",
       "       [ 0.3275418 , -0.12308207,  0.11308797,  0.09903717,  0.61298247,\n",
       "        -0.02523614,  0.29403981, -0.02633585, -0.62564572]])"
      ]
     },
     "execution_count": 18,
     "metadata": {},
     "output_type": "execute_result"
    }
   ],
   "source": [
    "#List of PCA components.\n",
    "pca.components_"
   ]
  },
  {
   "cell_type": "code",
   "execution_count": 19,
   "metadata": {
    "scrolled": true
   },
   "outputs": [
    {
     "data": {
      "text/plain": [
       "array([0.4595174 , 0.17181626, 0.13004259, 0.11053162, 0.07340211,\n",
       "       0.02484235, 0.0126043 , 0.00981282, 0.00743056])"
      ]
     },
     "execution_count": 19,
     "metadata": {},
     "output_type": "execute_result"
    }
   ],
   "source": [
    "#Let's check the variance ratios\n",
    "pca.explained_variance_ratio_"
   ]
  },
  {
   "cell_type": "code",
   "execution_count": 20,
   "metadata": {
    "scrolled": true
   },
   "outputs": [
    {
     "data": {
      "image/png": "[encoded data removed]",
      "text/plain": [
       "<Figure size 864x576 with 1 Axes>"
      ]
     },
     "metadata": {
      "needs_background": "light"
     },
     "output_type": "display_data"
    }
   ],
   "source": [
    "#Plotting the scree plot\n",
    "%matplotlib inline\n",
    "fig = plt.figure(figsize = (12,8))\n",
    "plt.plot(np.cumsum(pca.explained_variance_ratio_))\n",
    "plt.xlabel('number of components')\n",
    "plt.ylabel('cumulative explained variance')\n",
    "plt.show()"
   ]
  },
  {
   "cell_type": "code",
   "execution_count": 21,
   "metadata": {
    "scrolled": true
   },
   "outputs": [
    {
     "data": {
      "text/html": [
       "<div>\n",
       "<style scoped>\n",
       "    .dataframe tbody tr th:only-of-type {\n",
       "        vertical-align: middle;\n",
       "    }\n",
       "\n",
       "    .dataframe tbody tr th {\n",
       "        vertical-align: top;\n",
       "    }\n",
       "\n",
       "    .dataframe thead th {\n",
       "        text-align: right;\n",
       "    }\n",
       "</style>\n",
       "<table border=\"1\" class=\"dataframe\">\n",
       "  <thead>\n",
       "    <tr style=\"text-align: right;\">\n",
       "      <th></th>\n",
       "      <th>Feature</th>\n",
       "      <th>PC1</th>\n",
       "      <th>PC2</th>\n",
       "      <th>PC3</th>\n",
       "      <th>PC4</th>\n",
       "    </tr>\n",
       "  </thead>\n",
       "  <tbody>\n",
       "    <tr>\n",
       "      <th>0</th>\n",
       "      <td>child_mort</td>\n",
       "      <td>-0.419519</td>\n",
       "      <td>0.192884</td>\n",
       "      <td>-0.029544</td>\n",
       "      <td>0.370653</td>\n",
       "    </tr>\n",
       "    <tr>\n",
       "      <th>1</th>\n",
       "      <td>exports</td>\n",
       "      <td>0.283897</td>\n",
       "      <td>0.613163</td>\n",
       "      <td>0.144761</td>\n",
       "      <td>0.003091</td>\n",
       "    </tr>\n",
       "    <tr>\n",
       "      <th>2</th>\n",
       "      <td>health</td>\n",
       "      <td>0.150838</td>\n",
       "      <td>-0.243087</td>\n",
       "      <td>-0.596632</td>\n",
       "      <td>0.461897</td>\n",
       "    </tr>\n",
       "    <tr>\n",
       "      <th>3</th>\n",
       "      <td>imports</td>\n",
       "      <td>0.161482</td>\n",
       "      <td>0.671821</td>\n",
       "      <td>-0.299927</td>\n",
       "      <td>-0.071907</td>\n",
       "    </tr>\n",
       "    <tr>\n",
       "      <th>4</th>\n",
       "      <td>income</td>\n",
       "      <td>0.398441</td>\n",
       "      <td>0.022536</td>\n",
       "      <td>0.301548</td>\n",
       "      <td>0.392159</td>\n",
       "    </tr>\n",
       "    <tr>\n",
       "      <th>5</th>\n",
       "      <td>inflation</td>\n",
       "      <td>-0.193173</td>\n",
       "      <td>-0.008404</td>\n",
       "      <td>0.642520</td>\n",
       "      <td>0.150442</td>\n",
       "    </tr>\n",
       "    <tr>\n",
       "      <th>6</th>\n",
       "      <td>life_expec</td>\n",
       "      <td>0.425839</td>\n",
       "      <td>-0.222707</td>\n",
       "      <td>0.113919</td>\n",
       "      <td>-0.203797</td>\n",
       "    </tr>\n",
       "    <tr>\n",
       "      <th>7</th>\n",
       "      <td>total_fer</td>\n",
       "      <td>-0.403729</td>\n",
       "      <td>0.155233</td>\n",
       "      <td>0.019549</td>\n",
       "      <td>0.378304</td>\n",
       "    </tr>\n",
       "    <tr>\n",
       "      <th>8</th>\n",
       "      <td>gdpp</td>\n",
       "      <td>0.392645</td>\n",
       "      <td>-0.046022</td>\n",
       "      <td>0.122977</td>\n",
       "      <td>0.531995</td>\n",
       "    </tr>\n",
       "  </tbody>\n",
       "</table>\n",
       "</div>"
      ],
      "text/plain": [
       "      Feature       PC1       PC2       PC3       PC4\n",
       "0  child_mort -0.419519  0.192884 -0.029544  0.370653\n",
       "1     exports  0.283897  0.613163  0.144761  0.003091\n",
       "2      health  0.150838 -0.243087 -0.596632  0.461897\n",
       "3     imports  0.161482  0.671821 -0.299927 -0.071907\n",
       "4      income  0.398441  0.022536  0.301548  0.392159\n",
       "5   inflation -0.193173 -0.008404  0.642520  0.150442\n",
       "6  life_expec  0.425839 -0.222707  0.113919 -0.203797\n",
       "7   total_fer -0.403729  0.155233  0.019549  0.378304\n",
       "8        gdpp  0.392645 -0.046022  0.122977  0.531995"
      ]
     },
     "execution_count": 21,
     "metadata": {},
     "output_type": "execute_result"
    }
   ],
   "source": [
    "#Understanding how the original 4 variables are loaded on the principal components. It can be verified from above as well.\n",
    "colnames = list(df_columns.columns)\n",
    "df_pcs = pd.DataFrame({ 'Feature':colnames,'PC1':pca.components_[0],'PC2':pca.components_[1],'PC3':pca.components_[2],'PC4':pca.components_[3]})\n",
    "df_pcs"
   ]
  },
  {
   "cell_type": "code",
   "execution_count": 22,
   "metadata": {
    "scrolled": true
   },
   "outputs": [
    {
     "data": {
      "image/png": "[encoded data removed]",
      "text/plain": [
       "<Figure size 576x576 with 1 Axes>"
      ]
     },
     "metadata": {
      "needs_background": "light"
     },
     "output_type": "display_data"
    }
   ],
   "source": [
    "# Let's plot them to visualise how these features are loaded\n",
    "%matplotlib inline\n",
    "fig = plt.figure(figsize = (8,8))\n",
    "plt.scatter(df_pcs.PC1, df_pcs.PC2)\n",
    "plt.xlabel('Principal Component 1')\n",
    "plt.ylabel('Principal Component 2')\n",
    "for i, txt in enumerate(df_pcs.Feature):\n",
    "    plt.annotate(txt, (df_pcs.PC1[i],df_pcs.PC2[i]))\n",
    "plt.tight_layout()\n",
    "plt.show()"
   ]
  },
  {
   "cell_type": "code",
   "execution_count": 23,
   "metadata": {
    "scrolled": true
   },
   "outputs": [],
   "source": [
    "#Finally let's go ahead and do dimenstionality reduction using the two Principal Components\n",
    "from sklearn.decomposition import IncrementalPCA\n",
    "pca_final = IncrementalPCA(n_components=4)"
   ]
  },
  {
   "cell_type": "code",
   "execution_count": 24,
   "metadata": {
    "scrolled": true
   },
   "outputs": [
    {
     "data": {
      "text/plain": [
       "(167, 4)"
      ]
     },
     "execution_count": 24,
     "metadata": {},
     "output_type": "execute_result"
    }
   ],
   "source": [
    "df_pca = pca_final.fit_transform(np_columns)\n",
    "df_pca.shape"
   ]
  },
  {
   "cell_type": "code",
   "execution_count": 25,
   "metadata": {
    "scrolled": false
   },
   "outputs": [
    {
     "data": {
      "text/plain": [
       "array([[-2.91378654e+00,  8.83538878e-02,  7.21003195e-01,\n",
       "         9.96698978e-01],\n",
       "       [ 4.29357566e-01, -5.87858991e-01,  3.21052324e-01,\n",
       "        -1.17119280e+00],\n",
       "       [-2.82988288e-01, -4.46657168e-01, -1.22513541e+00,\n",
       "        -8.50127000e-01],\n",
       "       [-2.93096861e+00,  1.69943654e+00, -1.52173450e+00,\n",
       "         8.75966440e-01],\n",
       "       [ 1.03198760e+00,  1.30488006e-01,  1.92922430e-01,\n",
       "        -8.44808058e-01],\n",
       "       [ 2.84700248e-02, -1.75672051e+00, -7.93519995e-01,\n",
       "        -5.24863850e-02],\n",
       "       [-1.02848921e-01, -5.67475881e-01, -2.77668852e-01,\n",
       "        -1.45832104e+00],\n",
       "       [ 2.33945555e+00, -1.99811958e+00, -2.37052010e-01,\n",
       "         1.13249032e+00],\n",
       "       [ 2.97385881e+00, -7.34849467e-01,  5.48420918e-01,\n",
       "         1.19256083e+00],\n",
       "       [-1.80005999e-01, -3.93752233e-01, -8.64255214e-01,\n",
       "        -4.26656606e-01],\n",
       "       [ 1.26607427e+00, -6.65087633e-01,  4.53533102e-01,\n",
       "         5.94788468e-02],\n",
       "       [ 1.67073708e+00,  5.60394035e-01, -1.02016832e+00,\n",
       "        -1.78515459e-01],\n",
       "       [-1.12741714e+00, -9.68982142e-01, -6.11645165e-01,\n",
       "        -1.16311080e+00],\n",
       "       [ 1.08009326e+00, -4.86678838e-01,  6.49527936e-01,\n",
       "        -5.33559108e-01],\n",
       "       [ 5.83540385e-01,  5.53392782e-01, -4.30646508e-01,\n",
       "        -1.05371987e+00],\n",
       "       [ 3.14543683e+00,  6.67277565e-01,  7.08086955e-01,\n",
       "         1.06725353e+00],\n",
       "       [ 2.09344785e-01,  6.90214232e-01,  2.30509431e-01,\n",
       "        -1.09110359e+00],\n",
       "       [-2.67919539e+00,  3.91235044e-01,  1.39348599e-01,\n",
       "         3.21833828e-01],\n",
       "       [-1.57594868e-01,  7.77244610e-01,  2.69734266e-01,\n",
       "        -1.04641192e+00],\n",
       "       [-7.94531026e-01, -1.23173925e-01, -4.35885748e-01,\n",
       "        -7.08757479e-01],\n",
       "       [ 9.97787009e-01, -9.66161449e-01,  1.58487163e+00,\n",
       "        -6.77551718e-01],\n",
       "       [-8.81544572e-01,  4.61931856e-01,  6.20368010e-01,\n",
       "         3.84517328e-01],\n",
       "       [ 1.41883927e-01, -2.14602157e+00,  1.83137023e-01,\n",
       "        -1.78091997e-01],\n",
       "       [ 2.45995310e+00,  2.10435596e-02, -3.07474084e+00,\n",
       "         8.60320165e-01],\n",
       "       [ 9.05430350e-01,  2.68193489e-02,  4.50745065e-01,\n",
       "        -1.00296848e+00],\n",
       "       [-3.12520023e+00,  2.33147880e-02,  4.10699125e-01,\n",
       "         1.09693624e+00],\n",
       "       [-2.89561081e+00, -4.19722614e-01,  1.43445075e+00,\n",
       "         1.77314254e+00],\n",
       "       [-5.84243645e-01,  8.88585830e-01,  4.72591862e-01,\n",
       "        -8.09250087e-01],\n",
       "       [-2.81418366e+00,  5.46091285e-02,  2.38776788e-01,\n",
       "         5.80950885e-01],\n",
       "       [ 2.54393543e+00, -1.72656236e+00,  4.21127783e-01,\n",
       "         1.32750653e+00],\n",
       "       [-1.59550478e-01,  3.38681037e-01,  2.20677040e-01,\n",
       "        -1.33085009e+00],\n",
       "       [-3.97438941e+00,  3.57584315e-01,  1.86492834e-01,\n",
       "         9.73004717e-01],\n",
       "       [-3.56284864e+00,  1.26721341e+00,  2.51079608e-02,\n",
       "         1.24707921e+00],\n",
       "       [ 9.53875181e-01, -1.06925266e+00, -1.29124276e-01,\n",
       "        -4.46708521e-01],\n",
       "       [ 5.62151663e-02, -1.19131312e+00, -4.77242958e-01,\n",
       "        -1.26007233e+00],\n",
       "       [ 1.20226258e-01, -1.77281215e+00,  2.12409918e-01,\n",
       "        -7.14627764e-01],\n",
       "       [-2.09804826e+00,  3.26629124e-01,  2.55810024e-01,\n",
       "        -9.73178823e-02],\n",
       "       [-3.16903034e+00,  1.06052802e+00,  8.89876406e-02,\n",
       "         1.55254311e+00],\n",
       "       [-1.72274591e+00,  2.18504010e+00, -1.47615552e+00,\n",
       "        -1.15316825e-01],\n",
       "       [ 9.41591038e-01, -1.34067270e+00,  8.87941846e-01,\n",
       "        -3.05137490e-01],\n",
       "       [-2.58555400e+00,  1.19187984e+00,  1.76127525e-01,\n",
       "         6.88935372e-01],\n",
       "       [ 1.14761644e+00, -8.49477771e-01,  3.83416026e-01,\n",
       "        -6.26406569e-01],\n",
       "       [ 2.17227672e+00, -9.52034483e-03, -2.95253541e-01,\n",
       "        -2.93946204e-01],\n",
       "       [ 2.05213212e+00,  4.18163620e-01,  5.32325142e-01,\n",
       "        -4.20531749e-01],\n",
       "       [ 3.01128605e+00, -8.63837861e-01,  3.77635158e-01,\n",
       "         1.77683166e+00],\n",
       "       [-2.32432137e-01, -8.85221839e-01,  7.48209209e-04,\n",
       "        -6.45933489e-01],\n",
       "       [ 1.11363972e-02, -1.04244188e+00,  2.87086347e-01,\n",
       "        -5.04153555e-01],\n",
       "       [-8.48754735e-01, -8.22220423e-01, -6.26193799e-01,\n",
       "        -7.24528151e-01],\n",
       "       [ 8.08516761e-02, -5.71914335e-01,  5.54837149e-01,\n",
       "        -9.87252795e-01],\n",
       "       [-1.28999043e+00,  2.37757960e+00, -1.72171116e+00,\n",
       "         1.76492812e+00],\n",
       "       [-2.47749179e+00, -6.28044842e-01, -8.87554792e-01,\n",
       "        -4.45521438e-01],\n",
       "       [ 1.65843990e+00,  1.01906327e+00,  9.73009012e-02,\n",
       "        -8.65007876e-01],\n",
       "       [-1.90293393e-01,  1.06726876e+00,  1.62374933e-01,\n",
       "        -9.78689749e-01],\n",
       "       [ 2.45707120e+00, -1.08358296e+00,  7.57865481e-02,\n",
       "         9.12139905e-01],\n",
       "       [ 2.25475559e+00, -1.86870823e+00,  7.35441019e-01,\n",
       "         1.21348979e+00],\n",
       "       [-1.42152679e+00,  3.20594485e-01, -1.57342952e+00,\n",
       "         2.32277714e-01],\n",
       "       [-2.21648952e+00,  2.06132492e-01,  3.36198881e-01,\n",
       "         3.05583701e-01],\n",
       "       [ 3.25802783e-01, -5.04804048e-01,  1.05702580e+00,\n",
       "        -5.21740478e-01],\n",
       "       [ 2.67172533e+00, -1.27364277e+00,  6.84678789e-01,\n",
       "         1.10905847e+00],\n",
       "       [-2.05289452e+00,  3.86277177e-01, -4.00302230e-01,\n",
       "         9.30417413e-02],\n",
       "       [ 1.77907597e+00, -1.76785681e+00,  6.86058313e-01,\n",
       "         2.48557100e-01],\n",
       "       [ 1.42499982e-01, -4.41230725e-01,  4.15417962e-01,\n",
       "        -9.66698995e-01],\n",
       "       [-6.64166025e-01, -6.19491857e-01,  3.09329285e-01,\n",
       "        -4.47316482e-01],\n",
       "       [-2.96976917e+00,  7.28355917e-01, -3.91572975e-01,\n",
       "         6.80400951e-01],\n",
       "       [-2.83737150e+00, -1.06571638e-01,  1.17417770e+00,\n",
       "         1.12990473e+00],\n",
       "       [-3.23627841e-01,  1.36126861e+00,  4.73111974e-01,\n",
       "        -8.64364725e-01],\n",
       "       [-4.41877063e+00,  1.73052209e+00,  1.42862222e+00,\n",
       "         1.79844150e+00],\n",
       "       [ 1.83977233e+00,  1.27633579e+00,  4.86641233e-01,\n",
       "        -8.01183256e-01],\n",
       "       [ 2.48235411e+00, -6.32387335e-01, -7.71676113e-02,\n",
       "         9.17256651e-01],\n",
       "       [-1.34562096e+00, -5.39657993e-01, -5.31758024e-01,\n",
       "        -7.60840280e-01],\n",
       "       [-9.55194652e-01, -7.28617726e-01, -1.42505346e+00,\n",
       "        -1.10705927e+00],\n",
       "       [ 1.13954542e-03, -1.32212138e+00, -1.01618297e+00,\n",
       "        -7.44245178e-01],\n",
       "       [-1.02406114e+00, -2.71765214e-01, -1.22332481e-01,\n",
       "         5.42747925e-01],\n",
       "       [ 3.66793971e+00,  1.72332763e+00,  5.42595978e-01,\n",
       "         9.82033242e-01],\n",
       "       [ 1.48414911e+00, -1.05920557e+00, -1.16277250e-01,\n",
       "         3.37674557e-01],\n",
       "       [ 2.16426910e+00, -1.77821572e+00,  2.61950045e-01,\n",
       "         5.21484159e-01],\n",
       "       [ 1.89809090e-02, -2.34836669e-01, -3.43931191e-01,\n",
       "        -1.22071312e+00],\n",
       "       [ 2.26265280e+00, -2.44702110e+00,  1.75741538e-01,\n",
       "         7.31471428e-01],\n",
       "       [ 1.63623560e-01,  5.47167889e-01,  6.15951759e-01,\n",
       "        -4.12699597e-01],\n",
       "       [-2.90376679e-01, -2.23559586e-01, -1.47812124e+00,\n",
       "        -4.33867743e-01],\n",
       "       [-1.87935148e+00, -1.90238100e-01,  1.57414624e-01,\n",
       "        -2.57880347e-01],\n",
       "       [-1.23910650e+00,  3.67490079e-01,  2.43551348e+00,\n",
       "         5.25576317e-01],\n",
       "       [ 2.46339755e+00,  8.27946551e-02, -2.74197874e+00,\n",
       "         7.98283071e-01],\n",
       "       [-3.37710212e-01,  1.30630830e+00,  4.77434868e-01,\n",
       "        -8.48763987e-01],\n",
       "       [-1.53013431e+00,  5.42634144e-01, -1.70270937e-01,\n",
       "        -4.01174469e-01],\n",
       "       [ 1.18664001e+00,  1.55694807e-01,  4.53604325e-01,\n",
       "        -9.33314441e-01],\n",
       "       [ 1.17065964e+00, -2.60519329e-01,  6.00094567e-01,\n",
       "        -1.06628165e+00],\n",
       "       [-1.80359119e+00,  2.04234475e+00,  2.59498041e+00,\n",
       "         9.98154335e-01],\n",
       "       [-1.77165304e+00,  1.05605205e+00,  2.49852075e+00,\n",
       "         1.10197549e+00],\n",
       "       [ 8.20687965e-01,  3.97090649e-01, -1.50006843e+00,\n",
       "        -5.91448327e-01],\n",
       "       [ 1.40964837e+00,  7.30417782e-01,  4.13194208e-01,\n",
       "        -7.79122617e-01],\n",
       "       [ 6.91822384e+00,  4.85492082e+00, -9.26664511e-01,\n",
       "         3.15020034e+00],\n",
       "       [ 7.32521710e-01, -9.55026023e-02,  6.51679833e-01,\n",
       "        -1.15670150e+00],\n",
       "       [-2.13851264e+00,  3.32862150e-01, -2.93062276e-01,\n",
       "        -2.92987897e-01],\n",
       "       [-2.98051926e+00,  2.12538106e-01,  2.00578036e-01,\n",
       "         8.42287409e-01],\n",
       "       [ 1.23169978e+00,  1.60464345e+00, -5.42401748e-01,\n",
       "        -1.08079432e+00],\n",
       "       [ 1.10921384e+00,  1.00856494e+00,  2.71856909e-01,\n",
       "        -1.10163500e+00],\n",
       "       [-3.41786814e+00,  5.36630026e-01,  1.57566049e-01,\n",
       "         1.11198371e+00],\n",
       "       [ 3.68491617e+00,  4.78383520e+00,  1.17037874e+00,\n",
       "        -5.74644260e-01],\n",
       "       [-1.95163082e+00,  1.39152994e+00, -6.95548701e-01,\n",
       "         1.99710595e-01],\n",
       "       [ 8.97906216e-01,  4.12105593e-01,  3.53473234e-01,\n",
       "        -1.07546125e+00],\n",
       "       [-3.76569279e-01,  1.11980788e-01,  2.85737120e+00,\n",
       "         6.69839456e-01],\n",
       "       [ 5.15745286e-01,  1.87145552e-01,  1.72285111e+00,\n",
       "        -5.10689188e-01],\n",
       "       [-9.32749026e-01,  5.81330709e-01, -1.66280024e+00,\n",
       "        -4.33650261e-01],\n",
       "       [ 1.02755744e+00, -2.55717286e-01,  1.13437082e+00,\n",
       "        -7.54238891e-01],\n",
       "       [-2.36121508e-01, -2.92736980e-01,  1.93751075e-01,\n",
       "        -1.06330102e+00],\n",
       "       [-2.92368667e+00,  8.79892254e-01,  2.13193436e-01,\n",
       "         6.51605747e-01],\n",
       "       [-1.84353128e+00, -1.62850940e+00, -1.15345135e+00,\n",
       "        -1.05726479e+00],\n",
       "       [-1.04540634e+00,  9.95330654e-01,  7.18049921e-01,\n",
       "         8.45031393e-02],\n",
       "       [-1.30618384e+00, -7.80158392e-01, -3.81907523e-01,\n",
       "        -7.54605295e-01],\n",
       "       [ 3.38067106e+00,  1.18226177e-01,  8.01112899e-01,\n",
       "         1.51600133e+00],\n",
       "       [ 1.81638516e+00, -1.58551422e+00,  2.72810269e-01,\n",
       "         7.29208992e-01],\n",
       "       [-3.45536928e+00,  9.41772806e-01,  4.95818025e-01,\n",
       "         1.15642798e+00],\n",
       "       [-4.87892496e+00,  4.08088455e-02, -5.59026941e+00,\n",
       "         2.35010537e+00],\n",
       "       [ 3.71960485e+00, -1.45024282e+00, -8.97105319e-01,\n",
       "         2.80403693e+00],\n",
       "       [ 1.12856195e+00,  4.95995580e-01, -2.16608222e+00,\n",
       "        -1.24911425e-01],\n",
       "       [-2.36493054e+00, -4.90738000e-01, -1.11614013e+00,\n",
       "        -3.65222806e-01],\n",
       "       [ 1.16532728e+00,  1.11657993e+00,  8.27764084e-01,\n",
       "        -5.77634081e-01],\n",
       "       [ 1.18262810e-01,  3.60471416e-01,  3.86773875e-02,\n",
       "        -9.51247728e-01],\n",
       "       [-2.19481585e-02, -1.09261056e+00, -4.62891999e-01,\n",
       "        -1.04860692e+00],\n",
       "       [-7.85957003e-01, -1.08494124e-01, -3.93062361e-01,\n",
       "        -1.05247004e+00],\n",
       "       [ 1.21676376e+00, -6.62194163e-01,  2.88988127e-01,\n",
       "        -6.98487677e-01],\n",
       "       [ 1.81462891e+00, -1.45042772e+00,  9.67317874e-01,\n",
       "         1.65639849e-01],\n",
       "       [ 4.23529589e+00, -2.15247902e-01, -3.81394188e+00,\n",
       "         2.54029331e+00],\n",
       "       [ 5.70760248e-01, -6.41970864e-01, -1.35515196e-01,\n",
       "        -1.01740974e+00],\n",
       "       [ 1.64664022e-01, -1.05788975e+00, -1.10456358e+00,\n",
       "        -6.24639205e-01],\n",
       "       [-1.68005504e+00, -1.01014296e+00,  1.47857903e+00,\n",
       "         6.43549702e-01],\n",
       "       [-5.63907213e-01, -3.40986494e-02,  6.04676609e-01,\n",
       "        -5.37618295e-01],\n",
       "       [ 8.58073906e-01, -1.75554289e-01, -1.91167673e+00,\n",
       "         2.42041689e-01],\n",
       "       [-1.91585899e+00,  7.23725172e-02,  4.35325494e-01,\n",
       "         4.46371384e-02],\n",
       "       [ 8.35373113e-01, -8.58707879e-01,  1.08438738e+00,\n",
       "        -5.53033006e-01],\n",
       "       [ 1.59866858e+00,  2.92551373e+00,  3.29580298e-01,\n",
       "        -1.39205238e+00],\n",
       "       [-3.37798242e+00, -2.22711064e-01,  1.49751059e+00,\n",
       "         2.52433702e+00],\n",
       "       [ 5.78370335e+00,  6.68537372e+00, -6.08364908e-01,\n",
       "         9.42619030e-02],\n",
       "       [ 2.03044042e+00,  1.05253533e+00,  8.91071169e-01,\n",
       "        -4.03044079e-01],\n",
       "       [ 2.27961801e+00,  1.93465818e-01,  8.20114001e-01,\n",
       "        -9.02418723e-02],\n",
       "       [-8.03587837e-01,  1.30698043e+00,  1.29580114e+00,\n",
       "        -9.17429048e-02],\n",
       "       [-1.19298725e+00, -5.57571047e-01,  7.21907589e-01,\n",
       "         5.37899142e-01],\n",
       "       [ 1.91722251e+00, -4.28665086e-01, -1.61061106e-01,\n",
       "        -4.65325027e-01],\n",
       "       [ 2.01789107e+00, -1.78947218e+00,  3.60343980e-01,\n",
       "         2.64599765e-01],\n",
       "       [-5.71888654e-01, -9.78766663e-01, -1.73926995e+00,\n",
       "        -1.36011163e+00],\n",
       "       [ 2.41836977e-02, -2.08163900e-02, -7.85344050e-03,\n",
       "        -1.21598142e+00],\n",
       "       [-2.31648209e+00, -7.61420357e-01, -7.06208512e-01,\n",
       "         4.98154705e-01],\n",
       "       [ 1.72376478e-01, -9.34403842e-02, -1.13108002e-02,\n",
       "        -3.80206679e-01],\n",
       "       [ 2.81727594e+00, -9.19823817e-01,  9.60526923e-02,\n",
       "         1.25051715e+00],\n",
       "       [ 4.08792745e+00, -4.31372065e-01,  2.92453800e-01,\n",
       "         2.30729637e+00],\n",
       "       [-1.24334148e+00, -2.31259985e-02,  1.73025286e-01,\n",
       "        -4.96293492e-01],\n",
       "       [-2.55532214e+00, -2.24783809e-01,  5.35776851e-02,\n",
       "         4.75615760e-01],\n",
       "       [ 9.24634451e-01,  8.25687136e-01, -3.84425910e-01,\n",
       "        -1.58216115e+00],\n",
       "       [-2.36337407e+00, -1.15592764e+00, -2.72332448e-01,\n",
       "         1.12242039e+00],\n",
       "       [-2.00065578e+00,  9.43569322e-01,  1.19448792e+00,\n",
       "         5.51455873e-01],\n",
       "       [-7.56848284e-01, -9.79722606e-02,  3.80059442e-01,\n",
       "        -8.53472275e-01],\n",
       "       [ 6.02077138e-01,  1.72077336e-01,  2.31448553e-01,\n",
       "        -1.12583875e+00],\n",
       "       [ 4.01198889e-01, -1.41259131e+00, -2.50297618e-01,\n",
       "        -5.55292469e-01],\n",
       "       [-4.68836024e-01,  1.27633663e+00, -7.03491738e-01,\n",
       "        -8.92749155e-01],\n",
       "       [-2.85367327e+00, -3.56843051e-01,  7.23778627e-01,\n",
       "         1.28085947e+00],\n",
       "       [ 3.06434578e-01, -7.91408268e-02,  1.63637540e-01,\n",
       "        -9.15514450e-01],\n",
       "       [ 2.42731989e+00,  1.15710372e+00, -1.84548192e+00,\n",
       "         3.21000091e-01],\n",
       "       [ 2.06703441e+00, -1.54008411e+00,  2.42032574e-01,\n",
       "         7.94528790e-01],\n",
       "       [ 2.64464367e+00, -2.99119597e+00,  1.82998907e+00,\n",
       "         2.76804722e+00],\n",
       "       [ 6.17711324e-01, -1.43076436e+00,  2.38558500e-01,\n",
       "        -3.65984114e-01],\n",
       "       [-8.50917793e-01, -6.41210900e-01, -5.93362025e-01,\n",
       "        -7.25942834e-01],\n",
       "       [-8.22886613e-01,  6.29073711e-01,  3.43214044e-01,\n",
       "        -7.01375471e-01],\n",
       "       [-5.37431526e-01, -1.17732805e+00, -2.92229966e+00,\n",
       "        -1.26090754e-01],\n",
       "       [ 5.02766737e-01,  1.40801180e+00,  3.22218440e-01,\n",
       "        -1.11601371e+00],\n",
       "       [-1.88250459e+00, -9.34542964e-02, -1.05534779e+00,\n",
       "         5.64003767e-02],\n",
       "       [-2.86400911e+00,  4.83481476e-01, -2.28783939e-01,\n",
       "         8.28040931e-01]])"
      ]
     },
     "execution_count": 25,
     "metadata": {},
     "output_type": "execute_result"
    }
   ],
   "source": [
    "df_pca"
   ]
  },
  {
   "cell_type": "code",
   "execution_count": 26,
   "metadata": {
    "scrolled": true
   },
   "outputs": [],
   "source": [
    "#Creating a transpose so that the each column is properly arranged\n",
    "pc = np.transpose(df_pca)"
   ]
  },
  {
   "cell_type": "code",
   "execution_count": 27,
   "metadata": {
    "scrolled": true
   },
   "outputs": [],
   "source": [
    "pcs_df2 = pd.DataFrame({'PC1':pc[0],'PC2':pc[1],'PC3':pc[2],'PC4':pc[3]})"
   ]
  },
  {
   "cell_type": "code",
   "execution_count": 28,
   "metadata": {
    "scrolled": true
   },
   "outputs": [
    {
     "data": {
      "text/html": [
       "<div>\n",
       "<style scoped>\n",
       "    .dataframe tbody tr th:only-of-type {\n",
       "        vertical-align: middle;\n",
       "    }\n",
       "\n",
       "    .dataframe tbody tr th {\n",
       "        vertical-align: top;\n",
       "    }\n",
       "\n",
       "    .dataframe thead th {\n",
       "        text-align: right;\n",
       "    }\n",
       "</style>\n",
       "<table border=\"1\" class=\"dataframe\">\n",
       "  <thead>\n",
       "    <tr style=\"text-align: right;\">\n",
       "      <th></th>\n",
       "      <th>PC1</th>\n",
       "      <th>PC2</th>\n",
       "      <th>PC3</th>\n",
       "      <th>PC4</th>\n",
       "    </tr>\n",
       "  </thead>\n",
       "  <tbody>\n",
       "    <tr>\n",
       "      <th>0</th>\n",
       "      <td>-2.913787</td>\n",
       "      <td>0.088354</td>\n",
       "      <td>0.721003</td>\n",
       "      <td>0.996699</td>\n",
       "    </tr>\n",
       "    <tr>\n",
       "      <th>1</th>\n",
       "      <td>0.429358</td>\n",
       "      <td>-0.587859</td>\n",
       "      <td>0.321052</td>\n",
       "      <td>-1.171193</td>\n",
       "    </tr>\n",
       "    <tr>\n",
       "      <th>2</th>\n",
       "      <td>-0.282988</td>\n",
       "      <td>-0.446657</td>\n",
       "      <td>-1.225135</td>\n",
       "      <td>-0.850127</td>\n",
       "    </tr>\n",
       "    <tr>\n",
       "      <th>3</th>\n",
       "      <td>-2.930969</td>\n",
       "      <td>1.699437</td>\n",
       "      <td>-1.521734</td>\n",
       "      <td>0.875966</td>\n",
       "    </tr>\n",
       "    <tr>\n",
       "      <th>4</th>\n",
       "      <td>1.031988</td>\n",
       "      <td>0.130488</td>\n",
       "      <td>0.192922</td>\n",
       "      <td>-0.844808</td>\n",
       "    </tr>\n",
       "  </tbody>\n",
       "</table>\n",
       "</div>"
      ],
      "text/plain": [
       "        PC1       PC2       PC3       PC4\n",
       "0 -2.913787  0.088354  0.721003  0.996699\n",
       "1  0.429358 -0.587859  0.321052 -1.171193\n",
       "2 -0.282988 -0.446657 -1.225135 -0.850127\n",
       "3 -2.930969  1.699437 -1.521734  0.875966\n",
       "4  1.031988  0.130488  0.192922 -0.844808"
      ]
     },
     "execution_count": 28,
     "metadata": {},
     "output_type": "execute_result"
    }
   ],
   "source": [
    "pcs_df2.head()"
   ]
  },
  {
   "cell_type": "code",
   "execution_count": 29,
   "metadata": {
    "scrolled": true
   },
   "outputs": [
    {
     "data": {
      "text/plain": [
       "(167, 4)"
      ]
     },
     "execution_count": 29,
     "metadata": {},
     "output_type": "execute_result"
    }
   ],
   "source": [
    "pcs_df2.shape"
   ]
  },
  {
   "cell_type": "code",
   "execution_count": 30,
   "metadata": {},
   "outputs": [
    {
     "data": {
      "text/plain": [
       "<matplotlib.axes._subplots.AxesSubplot at 0x19c88875ba8>"
      ]
     },
     "execution_count": 30,
     "metadata": {},
     "output_type": "execute_result"
    },
    {
     "data": {
      "image/png": "[encoded data removed]",
      "text/plain": [
       "<Figure size 720x360 with 2 Axes>"
      ]
     },
     "metadata": {
      "needs_background": "light"
     },
     "output_type": "display_data"
    }
   ],
   "source": [
    "corrmat=np.corrcoef(pcs_df2.transpose())\n",
    "%matplotlib inline\n",
    "plt.figure(figsize = (10,5))\n",
    "sns.heatmap(corrmat,annot = True)"
   ]
  },
  {
   "cell_type": "code",
   "execution_count": 31,
   "metadata": {
    "scrolled": true
   },
   "outputs": [
    {
     "data": {
      "text/plain": [
       "<matplotlib.axes._subplots.AxesSubplot at 0x19c888353c8>"
      ]
     },
     "execution_count": 31,
     "metadata": {},
     "output_type": "execute_result"
    },
    {
     "data": {
      "image/png": "[encoded data removed]",
      "text/plain": [
       "<Figure size 432x288 with 1 Axes>"
      ]
     },
     "metadata": {
      "needs_background": "light"
     },
     "output_type": "display_data"
    }
   ],
   "source": [
    "# First and second Prinicipal component\n",
    "\n",
    "sns.scatterplot(x='PC1',y='PC2',data=pcs_df2)"
   ]
  },
  {
   "cell_type": "code",
   "execution_count": 32,
   "metadata": {
    "scrolled": true
   },
   "outputs": [
    {
     "data": {
      "text/plain": [
       "<matplotlib.axes._subplots.AxesSubplot at 0x19c8881acc0>"
      ]
     },
     "execution_count": 32,
     "metadata": {},
     "output_type": "execute_result"
    },
    {
     "data": {
      "image/png": "[encoded data removed]",
      "text/plain": [
       "<Figure size 432x288 with 1 Axes>"
      ]
     },
     "metadata": {
      "needs_background": "light"
     },
     "output_type": "display_data"
    }
   ],
   "source": [
    "# First and third Principal component\n",
    "\n",
    "sns.scatterplot(x='PC1',y='PC3',data=pcs_df2)"
   ]
  },
  {
   "cell_type": "code",
   "execution_count": 33,
   "metadata": {
    "scrolled": true
   },
   "outputs": [
    {
     "data": {
      "text/plain": [
       "<matplotlib.axes._subplots.AxesSubplot at 0x19c88b464e0>"
      ]
     },
     "execution_count": 33,
     "metadata": {},
     "output_type": "execute_result"
    },
    {
     "data": {
      "image/png": "[encoded data removed]",
      "text/plain": [
       "<Figure size 432x288 with 1 Axes>"
      ]
     },
     "metadata": {
      "needs_background": "light"
     },
     "output_type": "display_data"
    }
   ],
   "source": [
    "# First and Fourthh Principal component\n",
    "\n",
    "sns.scatterplot(x='PC1',y='PC4',data=pcs_df2)"
   ]
  },
  {
   "cell_type": "code",
   "execution_count": 34,
   "metadata": {
    "scrolled": true
   },
   "outputs": [
    {
     "data": {
      "text/plain": [
       "<matplotlib.axes._subplots.AxesSubplot at 0x19c886b3c50>"
      ]
     },
     "execution_count": 34,
     "metadata": {},
     "output_type": "execute_result"
    },
    {
     "data": {
      "image/png": "[encoded data removed]",
      "text/plain": [
       "<Figure size 432x288 with 1 Axes>"
      ]
     },
     "metadata": {
      "needs_background": "light"
     },
     "output_type": "display_data"
    }
   ],
   "source": [
    "# Second and third Principal component\n",
    "\n",
    "sns.scatterplot(x='PC2',y='PC3',data=pcs_df2)"
   ]
  },
  {
   "cell_type": "code",
   "execution_count": 35,
   "metadata": {
    "scrolled": true
   },
   "outputs": [
    {
     "data": {
      "text/plain": [
       "<matplotlib.axes._subplots.AxesSubplot at 0x19c88b46630>"
      ]
     },
     "execution_count": 35,
     "metadata": {},
     "output_type": "execute_result"
    },
    {
     "data": {
      "image/png": "[encoded data removed]",
      "text/plain": [
       "<Figure size 432x288 with 1 Axes>"
      ]
     },
     "metadata": {
      "needs_background": "light"
     },
     "output_type": "display_data"
    }
   ],
   "source": [
    "# Second and Fourth Principal component\n",
    "\n",
    "sns.scatterplot(x='PC2',y='PC4',data=pcs_df2)"
   ]
  },
  {
   "cell_type": "code",
   "execution_count": 36,
   "metadata": {
    "scrolled": true
   },
   "outputs": [
    {
     "data": {
      "text/plain": [
       "<matplotlib.axes._subplots.AxesSubplot at 0x19c887bef60>"
      ]
     },
     "execution_count": 36,
     "metadata": {},
     "output_type": "execute_result"
    },
    {
     "data": {
      "image/png": "[encoded data removed]",
      "text/plain": [
       "<Figure size 432x288 with 1 Axes>"
      ]
     },
     "metadata": {
      "needs_background": "light"
     },
     "output_type": "display_data"
    }
   ],
   "source": [
    "# Third and Fourth Principal component\n",
    "\n",
    "sns.scatterplot(x='PC3',y='PC4',data=pcs_df2)"
   ]
  },
  {
   "cell_type": "markdown",
   "metadata": {},
   "source": [
    "## HOPKINS TEST"
   ]
  },
  {
   "cell_type": "code",
   "execution_count": 37,
   "metadata": {
    "scrolled": true
   },
   "outputs": [],
   "source": [
    "#Calculating the Hopkins statistic\n",
    "from sklearn.neighbors import NearestNeighbors\n",
    "from random import sample\n",
    "from numpy.random import uniform\n",
    "import numpy as np\n",
    "from math import isnan\n",
    " \n",
    "def hopkins(X):\n",
    "    d = X.shape[1]\n",
    "    #d = len(vars) # columns\n",
    "    n = len(X) # rows\n",
    "    m = int(0.1 * n) \n",
    "    nbrs = NearestNeighbors(n_neighbors=1).fit(X.values)\n",
    " \n",
    "    rand_X = sample(range(0, n, 1), m)\n",
    " \n",
    "    ujd = []\n",
    "    wjd = []\n",
    "    for j in range(0, m):\n",
    "        u_dist, _ = nbrs.kneighbors(uniform(np.amin(X,axis=0),np.amax(X,axis=0),d).reshape(1, -1), 2, return_distance=True)\n",
    "        ujd.append(u_dist[0][1])\n",
    "        w_dist, _ = nbrs.kneighbors(X.iloc[rand_X[j]].values.reshape(1, -1), 2, return_distance=True)\n",
    "        wjd.append(w_dist[0][1])\n",
    " \n",
    "    H = sum(ujd) / (sum(ujd) + sum(wjd))\n",
    "    if isnan(H):\n",
    "        print(ujd, wjd)\n",
    "        H = 0\n",
    " \n",
    "    return H"
   ]
  },
  {
   "cell_type": "code",
   "execution_count": 38,
   "metadata": {
    "scrolled": true
   },
   "outputs": [
    {
     "name": "stdout",
     "output_type": "stream",
     "text": [
      "Average Hopkins score is: 0.8075757748908646\n"
     ]
    }
   ],
   "source": [
    "#Let's check the average Hopkins measure\n",
    "sum_1=0\n",
    "for i in range(0,10):\n",
    "    sum_1=sum_1+hopkins(pcs_df2)\n",
    "print('Average Hopkins score is:',sum_1/10)"
   ]
  },
  {
   "cell_type": "code",
   "execution_count": 39,
   "metadata": {
    "scrolled": true
   },
   "outputs": [],
   "source": [
    "dat3=pcs_df2"
   ]
  },
  {
   "cell_type": "code",
   "execution_count": 40,
   "metadata": {
    "scrolled": true
   },
   "outputs": [],
   "source": [
    "#Code to do the silhouette score analysis\n",
    "from sklearn.metrics import silhouette_score\n",
    "sse_ = []\n",
    "for k in range(2, 10):\n",
    "    kmeans = KMeans(n_clusters=k).fit(dat3)\n",
    "    sse_.append([k, silhouette_score(dat3, kmeans.labels_)])"
   ]
  },
  {
   "cell_type": "code",
   "execution_count": 41,
   "metadata": {
    "scrolled": true
   },
   "outputs": [
    {
     "data": {
      "text/plain": [
       "[<matplotlib.lines.Line2D at 0x19c886263c8>]"
      ]
     },
     "execution_count": 41,
     "metadata": {},
     "output_type": "execute_result"
    },
    {
     "data": {
      "image/png": "[encoded data removed]",
      "text/plain": [
       "<Figure size 432x288 with 1 Axes>"
      ]
     },
     "metadata": {
      "needs_background": "light"
     },
     "output_type": "display_data"
    }
   ],
   "source": [
    "plt.plot(pd.DataFrame(sse_)[0], pd.DataFrame(sse_)[1])"
   ]
  },
  {
   "cell_type": "code",
   "execution_count": 42,
   "metadata": {
    "scrolled": true
   },
   "outputs": [
    {
     "data": {
      "text/plain": [
       "[<matplotlib.lines.Line2D at 0x19c8952a8d0>]"
      ]
     },
     "execution_count": 42,
     "metadata": {},
     "output_type": "execute_result"
    },
    {
     "data": {
      "image/png": "[encoded data removed]",
      "text/plain": [
       "<Figure size 432x288 with 1 Axes>"
      ]
     },
     "metadata": {
      "needs_background": "light"
     },
     "output_type": "display_data"
    }
   ],
   "source": [
    "# Code to Elbow curve\n",
    "ssd = []\n",
    "for num_clusters in list(range(1,10)):\n",
    "    model_clus = KMeans(n_clusters = num_clusters, max_iter=50)\n",
    "    model_clus.fit(dat3)\n",
    "    ssd.append(model_clus.inertia_)\n",
    "\n",
    "plt.plot(ssd)"
   ]
  },
  {
   "cell_type": "markdown",
   "metadata": {},
   "source": [
    "- We can see that change of value after 4 number of components is very low. "
   ]
  },
  {
   "cell_type": "code",
   "execution_count": 43,
   "metadata": {
    "scrolled": true
   },
   "outputs": [
    {
     "data": {
      "text/plain": [
       "KMeans(algorithm='auto', copy_x=True, init='k-means++', max_iter=50,\n",
       "    n_clusters=4, n_init=10, n_jobs=None, precompute_distances='auto',\n",
       "    random_state=50, tol=0.0001, verbose=0)"
      ]
     },
     "execution_count": 43,
     "metadata": {},
     "output_type": "execute_result"
    }
   ],
   "source": [
    "#Let's perform K means using K=4\n",
    "\n",
    "model_clus2 = KMeans(n_clusters = 4, max_iter=50,random_state = 50)\n",
    "model_clus2.fit(dat3)"
   ]
  },
  {
   "cell_type": "code",
   "execution_count": 44,
   "metadata": {
    "scrolled": true
   },
   "outputs": [
    {
     "name": "stdout",
     "output_type": "stream",
     "text": [
      "For n_clusters=2, the silhouette score is 0.7256314906273207\n",
      "For n_clusters=3, the silhouette score is 0.7003508054481694\n",
      "For n_clusters=4, the silhouette score is 0.6109297437247547\n",
      "For n_clusters=5, the silhouette score is 0.5734773443272871\n",
      "For n_clusters=6, the silhouette score is 0.5887765000865469\n",
      "For n_clusters=7, the silhouette score is 0.5944253756384579\n",
      "For n_clusters=8, the silhouette score is 0.5964827694227414\n"
     ]
    }
   ],
   "source": [
    "# silhouette analysis\n",
    "range_n_clusters = [2, 3, 4, 5, 6, 7, 8]\n",
    "\n",
    "for num_clusters in range_n_clusters:\n",
    "    \n",
    "    # intialise kmeans\n",
    "    kmeans = KMeans(n_clusters=num_clusters, max_iter=50)\n",
    "    kmeans.fit(df_columns)\n",
    "    \n",
    "    cluster_labels = kmeans.labels_\n",
    "    \n",
    "    # silhouette score\n",
    "    silhouette_avg = silhouette_score(df_columns, cluster_labels)\n",
    "    print(\"For n_clusters={0}, the silhouette score is {1}\".format(num_clusters, silhouette_avg))"
   ]
  },
  {
   "cell_type": "code",
   "execution_count": 45,
   "metadata": {
    "scrolled": true
   },
   "outputs": [
    {
     "data": {
      "text/html": [
       "<div>\n",
       "<style scoped>\n",
       "    .dataframe tbody tr th:only-of-type {\n",
       "        vertical-align: middle;\n",
       "    }\n",
       "\n",
       "    .dataframe tbody tr th {\n",
       "        vertical-align: top;\n",
       "    }\n",
       "\n",
       "    .dataframe thead th {\n",
       "        text-align: right;\n",
       "    }\n",
       "</style>\n",
       "<table border=\"1\" class=\"dataframe\">\n",
       "  <thead>\n",
       "    <tr style=\"text-align: right;\">\n",
       "      <th></th>\n",
       "      <th>PC1</th>\n",
       "      <th>PC2</th>\n",
       "      <th>PC3</th>\n",
       "      <th>PC4</th>\n",
       "      <th>ClusterID</th>\n",
       "    </tr>\n",
       "  </thead>\n",
       "  <tbody>\n",
       "    <tr>\n",
       "      <th>0</th>\n",
       "      <td>-2.913787</td>\n",
       "      <td>0.088354</td>\n",
       "      <td>0.721003</td>\n",
       "      <td>0.996699</td>\n",
       "      <td>1</td>\n",
       "    </tr>\n",
       "    <tr>\n",
       "      <th>1</th>\n",
       "      <td>0.429358</td>\n",
       "      <td>-0.587859</td>\n",
       "      <td>0.321052</td>\n",
       "      <td>-1.171193</td>\n",
       "      <td>2</td>\n",
       "    </tr>\n",
       "    <tr>\n",
       "      <th>2</th>\n",
       "      <td>-0.282988</td>\n",
       "      <td>-0.446657</td>\n",
       "      <td>-1.225135</td>\n",
       "      <td>-0.850127</td>\n",
       "      <td>2</td>\n",
       "    </tr>\n",
       "    <tr>\n",
       "      <th>3</th>\n",
       "      <td>-2.930969</td>\n",
       "      <td>1.699437</td>\n",
       "      <td>-1.521734</td>\n",
       "      <td>0.875966</td>\n",
       "      <td>1</td>\n",
       "    </tr>\n",
       "    <tr>\n",
       "      <th>4</th>\n",
       "      <td>1.031988</td>\n",
       "      <td>0.130488</td>\n",
       "      <td>0.192922</td>\n",
       "      <td>-0.844808</td>\n",
       "      <td>2</td>\n",
       "    </tr>\n",
       "    <tr>\n",
       "      <th>5</th>\n",
       "      <td>0.028470</td>\n",
       "      <td>-1.756721</td>\n",
       "      <td>-0.793520</td>\n",
       "      <td>-0.052486</td>\n",
       "      <td>2</td>\n",
       "    </tr>\n",
       "    <tr>\n",
       "      <th>6</th>\n",
       "      <td>-0.102849</td>\n",
       "      <td>-0.567476</td>\n",
       "      <td>-0.277669</td>\n",
       "      <td>-1.458321</td>\n",
       "      <td>2</td>\n",
       "    </tr>\n",
       "    <tr>\n",
       "      <th>7</th>\n",
       "      <td>2.339456</td>\n",
       "      <td>-1.998120</td>\n",
       "      <td>-0.237052</td>\n",
       "      <td>1.132490</td>\n",
       "      <td>0</td>\n",
       "    </tr>\n",
       "    <tr>\n",
       "      <th>8</th>\n",
       "      <td>2.973859</td>\n",
       "      <td>-0.734849</td>\n",
       "      <td>0.548421</td>\n",
       "      <td>1.192561</td>\n",
       "      <td>0</td>\n",
       "    </tr>\n",
       "    <tr>\n",
       "      <th>9</th>\n",
       "      <td>-0.180006</td>\n",
       "      <td>-0.393752</td>\n",
       "      <td>-0.864255</td>\n",
       "      <td>-0.426657</td>\n",
       "      <td>2</td>\n",
       "    </tr>\n",
       "    <tr>\n",
       "      <th>10</th>\n",
       "      <td>1.266074</td>\n",
       "      <td>-0.665088</td>\n",
       "      <td>0.453533</td>\n",
       "      <td>0.059479</td>\n",
       "      <td>2</td>\n",
       "    </tr>\n",
       "    <tr>\n",
       "      <th>11</th>\n",
       "      <td>1.670737</td>\n",
       "      <td>0.560394</td>\n",
       "      <td>-1.020168</td>\n",
       "      <td>-0.178515</td>\n",
       "      <td>2</td>\n",
       "    </tr>\n",
       "    <tr>\n",
       "      <th>12</th>\n",
       "      <td>-1.127417</td>\n",
       "      <td>-0.968982</td>\n",
       "      <td>-0.611645</td>\n",
       "      <td>-1.163111</td>\n",
       "      <td>2</td>\n",
       "    </tr>\n",
       "    <tr>\n",
       "      <th>13</th>\n",
       "      <td>1.080093</td>\n",
       "      <td>-0.486679</td>\n",
       "      <td>0.649528</td>\n",
       "      <td>-0.533559</td>\n",
       "      <td>2</td>\n",
       "    </tr>\n",
       "    <tr>\n",
       "      <th>14</th>\n",
       "      <td>0.583540</td>\n",
       "      <td>0.553393</td>\n",
       "      <td>-0.430647</td>\n",
       "      <td>-1.053720</td>\n",
       "      <td>2</td>\n",
       "    </tr>\n",
       "    <tr>\n",
       "      <th>15</th>\n",
       "      <td>3.145437</td>\n",
       "      <td>0.667278</td>\n",
       "      <td>0.708087</td>\n",
       "      <td>1.067254</td>\n",
       "      <td>0</td>\n",
       "    </tr>\n",
       "    <tr>\n",
       "      <th>16</th>\n",
       "      <td>0.209345</td>\n",
       "      <td>0.690214</td>\n",
       "      <td>0.230509</td>\n",
       "      <td>-1.091104</td>\n",
       "      <td>2</td>\n",
       "    </tr>\n",
       "    <tr>\n",
       "      <th>17</th>\n",
       "      <td>-2.679195</td>\n",
       "      <td>0.391235</td>\n",
       "      <td>0.139349</td>\n",
       "      <td>0.321834</td>\n",
       "      <td>1</td>\n",
       "    </tr>\n",
       "    <tr>\n",
       "      <th>18</th>\n",
       "      <td>-0.157595</td>\n",
       "      <td>0.777245</td>\n",
       "      <td>0.269734</td>\n",
       "      <td>-1.046412</td>\n",
       "      <td>2</td>\n",
       "    </tr>\n",
       "    <tr>\n",
       "      <th>19</th>\n",
       "      <td>-0.794531</td>\n",
       "      <td>-0.123174</td>\n",
       "      <td>-0.435886</td>\n",
       "      <td>-0.708757</td>\n",
       "      <td>2</td>\n",
       "    </tr>\n",
       "    <tr>\n",
       "      <th>20</th>\n",
       "      <td>0.997787</td>\n",
       "      <td>-0.966161</td>\n",
       "      <td>1.584872</td>\n",
       "      <td>-0.677552</td>\n",
       "      <td>2</td>\n",
       "    </tr>\n",
       "    <tr>\n",
       "      <th>21</th>\n",
       "      <td>-0.881545</td>\n",
       "      <td>0.461932</td>\n",
       "      <td>0.620368</td>\n",
       "      <td>0.384517</td>\n",
       "      <td>1</td>\n",
       "    </tr>\n",
       "    <tr>\n",
       "      <th>22</th>\n",
       "      <td>0.141884</td>\n",
       "      <td>-2.146022</td>\n",
       "      <td>0.183137</td>\n",
       "      <td>-0.178092</td>\n",
       "      <td>2</td>\n",
       "    </tr>\n",
       "    <tr>\n",
       "      <th>23</th>\n",
       "      <td>2.459953</td>\n",
       "      <td>0.021044</td>\n",
       "      <td>-3.074741</td>\n",
       "      <td>0.860320</td>\n",
       "      <td>0</td>\n",
       "    </tr>\n",
       "    <tr>\n",
       "      <th>24</th>\n",
       "      <td>0.905430</td>\n",
       "      <td>0.026819</td>\n",
       "      <td>0.450745</td>\n",
       "      <td>-1.002968</td>\n",
       "      <td>2</td>\n",
       "    </tr>\n",
       "    <tr>\n",
       "      <th>25</th>\n",
       "      <td>-3.125200</td>\n",
       "      <td>0.023315</td>\n",
       "      <td>0.410699</td>\n",
       "      <td>1.096936</td>\n",
       "      <td>1</td>\n",
       "    </tr>\n",
       "    <tr>\n",
       "      <th>26</th>\n",
       "      <td>-2.895611</td>\n",
       "      <td>-0.419723</td>\n",
       "      <td>1.434451</td>\n",
       "      <td>1.773143</td>\n",
       "      <td>1</td>\n",
       "    </tr>\n",
       "    <tr>\n",
       "      <th>27</th>\n",
       "      <td>-0.584244</td>\n",
       "      <td>0.888586</td>\n",
       "      <td>0.472592</td>\n",
       "      <td>-0.809250</td>\n",
       "      <td>2</td>\n",
       "    </tr>\n",
       "    <tr>\n",
       "      <th>28</th>\n",
       "      <td>-2.814184</td>\n",
       "      <td>0.054609</td>\n",
       "      <td>0.238777</td>\n",
       "      <td>0.580951</td>\n",
       "      <td>1</td>\n",
       "    </tr>\n",
       "    <tr>\n",
       "      <th>29</th>\n",
       "      <td>2.543935</td>\n",
       "      <td>-1.726562</td>\n",
       "      <td>0.421128</td>\n",
       "      <td>1.327507</td>\n",
       "      <td>0</td>\n",
       "    </tr>\n",
       "    <tr>\n",
       "      <th>...</th>\n",
       "      <td>...</td>\n",
       "      <td>...</td>\n",
       "      <td>...</td>\n",
       "      <td>...</td>\n",
       "      <td>...</td>\n",
       "    </tr>\n",
       "    <tr>\n",
       "      <th>137</th>\n",
       "      <td>-1.192987</td>\n",
       "      <td>-0.557571</td>\n",
       "      <td>0.721908</td>\n",
       "      <td>0.537899</td>\n",
       "      <td>1</td>\n",
       "    </tr>\n",
       "    <tr>\n",
       "      <th>138</th>\n",
       "      <td>1.917223</td>\n",
       "      <td>-0.428665</td>\n",
       "      <td>-0.161061</td>\n",
       "      <td>-0.465325</td>\n",
       "      <td>0</td>\n",
       "    </tr>\n",
       "    <tr>\n",
       "      <th>139</th>\n",
       "      <td>2.017891</td>\n",
       "      <td>-1.789472</td>\n",
       "      <td>0.360344</td>\n",
       "      <td>0.264600</td>\n",
       "      <td>0</td>\n",
       "    </tr>\n",
       "    <tr>\n",
       "      <th>140</th>\n",
       "      <td>-0.571889</td>\n",
       "      <td>-0.978767</td>\n",
       "      <td>-1.739270</td>\n",
       "      <td>-1.360112</td>\n",
       "      <td>2</td>\n",
       "    </tr>\n",
       "    <tr>\n",
       "      <th>141</th>\n",
       "      <td>0.024184</td>\n",
       "      <td>-0.020816</td>\n",
       "      <td>-0.007853</td>\n",
       "      <td>-1.215981</td>\n",
       "      <td>2</td>\n",
       "    </tr>\n",
       "    <tr>\n",
       "      <th>142</th>\n",
       "      <td>-2.316482</td>\n",
       "      <td>-0.761420</td>\n",
       "      <td>-0.706209</td>\n",
       "      <td>0.498155</td>\n",
       "      <td>1</td>\n",
       "    </tr>\n",
       "    <tr>\n",
       "      <th>143</th>\n",
       "      <td>0.172376</td>\n",
       "      <td>-0.093440</td>\n",
       "      <td>-0.011311</td>\n",
       "      <td>-0.380207</td>\n",
       "      <td>2</td>\n",
       "    </tr>\n",
       "    <tr>\n",
       "      <th>144</th>\n",
       "      <td>2.817276</td>\n",
       "      <td>-0.919824</td>\n",
       "      <td>0.096053</td>\n",
       "      <td>1.250517</td>\n",
       "      <td>0</td>\n",
       "    </tr>\n",
       "    <tr>\n",
       "      <th>145</th>\n",
       "      <td>4.087927</td>\n",
       "      <td>-0.431372</td>\n",
       "      <td>0.292454</td>\n",
       "      <td>2.307296</td>\n",
       "      <td>0</td>\n",
       "    </tr>\n",
       "    <tr>\n",
       "      <th>146</th>\n",
       "      <td>-1.243341</td>\n",
       "      <td>-0.023126</td>\n",
       "      <td>0.173025</td>\n",
       "      <td>-0.496293</td>\n",
       "      <td>2</td>\n",
       "    </tr>\n",
       "    <tr>\n",
       "      <th>147</th>\n",
       "      <td>-2.555322</td>\n",
       "      <td>-0.224784</td>\n",
       "      <td>0.053578</td>\n",
       "      <td>0.475616</td>\n",
       "      <td>1</td>\n",
       "    </tr>\n",
       "    <tr>\n",
       "      <th>148</th>\n",
       "      <td>0.924634</td>\n",
       "      <td>0.825687</td>\n",
       "      <td>-0.384426</td>\n",
       "      <td>-1.582161</td>\n",
       "      <td>2</td>\n",
       "    </tr>\n",
       "    <tr>\n",
       "      <th>149</th>\n",
       "      <td>-2.363374</td>\n",
       "      <td>-1.155928</td>\n",
       "      <td>-0.272332</td>\n",
       "      <td>1.122420</td>\n",
       "      <td>1</td>\n",
       "    </tr>\n",
       "    <tr>\n",
       "      <th>150</th>\n",
       "      <td>-2.000656</td>\n",
       "      <td>0.943569</td>\n",
       "      <td>1.194488</td>\n",
       "      <td>0.551456</td>\n",
       "      <td>1</td>\n",
       "    </tr>\n",
       "    <tr>\n",
       "      <th>151</th>\n",
       "      <td>-0.756848</td>\n",
       "      <td>-0.097972</td>\n",
       "      <td>0.380059</td>\n",
       "      <td>-0.853472</td>\n",
       "      <td>2</td>\n",
       "    </tr>\n",
       "    <tr>\n",
       "      <th>152</th>\n",
       "      <td>0.602077</td>\n",
       "      <td>0.172077</td>\n",
       "      <td>0.231449</td>\n",
       "      <td>-1.125839</td>\n",
       "      <td>2</td>\n",
       "    </tr>\n",
       "    <tr>\n",
       "      <th>153</th>\n",
       "      <td>0.401199</td>\n",
       "      <td>-1.412591</td>\n",
       "      <td>-0.250298</td>\n",
       "      <td>-0.555292</td>\n",
       "      <td>2</td>\n",
       "    </tr>\n",
       "    <tr>\n",
       "      <th>154</th>\n",
       "      <td>-0.468836</td>\n",
       "      <td>1.276337</td>\n",
       "      <td>-0.703492</td>\n",
       "      <td>-0.892749</td>\n",
       "      <td>2</td>\n",
       "    </tr>\n",
       "    <tr>\n",
       "      <th>155</th>\n",
       "      <td>-2.853673</td>\n",
       "      <td>-0.356843</td>\n",
       "      <td>0.723779</td>\n",
       "      <td>1.280859</td>\n",
       "      <td>1</td>\n",
       "    </tr>\n",
       "    <tr>\n",
       "      <th>156</th>\n",
       "      <td>0.306435</td>\n",
       "      <td>-0.079141</td>\n",
       "      <td>0.163638</td>\n",
       "      <td>-0.915514</td>\n",
       "      <td>2</td>\n",
       "    </tr>\n",
       "    <tr>\n",
       "      <th>157</th>\n",
       "      <td>2.427320</td>\n",
       "      <td>1.157104</td>\n",
       "      <td>-1.845482</td>\n",
       "      <td>0.321000</td>\n",
       "      <td>0</td>\n",
       "    </tr>\n",
       "    <tr>\n",
       "      <th>158</th>\n",
       "      <td>2.067034</td>\n",
       "      <td>-1.540084</td>\n",
       "      <td>0.242033</td>\n",
       "      <td>0.794529</td>\n",
       "      <td>0</td>\n",
       "    </tr>\n",
       "    <tr>\n",
       "      <th>159</th>\n",
       "      <td>2.644644</td>\n",
       "      <td>-2.991196</td>\n",
       "      <td>1.829989</td>\n",
       "      <td>2.768047</td>\n",
       "      <td>0</td>\n",
       "    </tr>\n",
       "    <tr>\n",
       "      <th>160</th>\n",
       "      <td>0.617711</td>\n",
       "      <td>-1.430764</td>\n",
       "      <td>0.238559</td>\n",
       "      <td>-0.365984</td>\n",
       "      <td>2</td>\n",
       "    </tr>\n",
       "    <tr>\n",
       "      <th>161</th>\n",
       "      <td>-0.850918</td>\n",
       "      <td>-0.641211</td>\n",
       "      <td>-0.593362</td>\n",
       "      <td>-0.725943</td>\n",
       "      <td>2</td>\n",
       "    </tr>\n",
       "    <tr>\n",
       "      <th>162</th>\n",
       "      <td>-0.822887</td>\n",
       "      <td>0.629074</td>\n",
       "      <td>0.343214</td>\n",
       "      <td>-0.701375</td>\n",
       "      <td>2</td>\n",
       "    </tr>\n",
       "    <tr>\n",
       "      <th>163</th>\n",
       "      <td>-0.537432</td>\n",
       "      <td>-1.177328</td>\n",
       "      <td>-2.922300</td>\n",
       "      <td>-0.126091</td>\n",
       "      <td>2</td>\n",
       "    </tr>\n",
       "    <tr>\n",
       "      <th>164</th>\n",
       "      <td>0.502767</td>\n",
       "      <td>1.408012</td>\n",
       "      <td>0.322218</td>\n",
       "      <td>-1.116014</td>\n",
       "      <td>2</td>\n",
       "    </tr>\n",
       "    <tr>\n",
       "      <th>165</th>\n",
       "      <td>-1.882505</td>\n",
       "      <td>-0.093454</td>\n",
       "      <td>-1.055348</td>\n",
       "      <td>0.056400</td>\n",
       "      <td>1</td>\n",
       "    </tr>\n",
       "    <tr>\n",
       "      <th>166</th>\n",
       "      <td>-2.864009</td>\n",
       "      <td>0.483481</td>\n",
       "      <td>-0.228784</td>\n",
       "      <td>0.828041</td>\n",
       "      <td>1</td>\n",
       "    </tr>\n",
       "  </tbody>\n",
       "</table>\n",
       "<p>167 rows × 5 columns</p>\n",
       "</div>"
      ],
      "text/plain": [
       "          PC1       PC2       PC3       PC4  ClusterID\n",
       "0   -2.913787  0.088354  0.721003  0.996699          1\n",
       "1    0.429358 -0.587859  0.321052 -1.171193          2\n",
       "2   -0.282988 -0.446657 -1.225135 -0.850127          2\n",
       "3   -2.930969  1.699437 -1.521734  0.875966          1\n",
       "4    1.031988  0.130488  0.192922 -0.844808          2\n",
       "5    0.028470 -1.756721 -0.793520 -0.052486          2\n",
       "6   -0.102849 -0.567476 -0.277669 -1.458321          2\n",
       "7    2.339456 -1.998120 -0.237052  1.132490          0\n",
       "8    2.973859 -0.734849  0.548421  1.192561          0\n",
       "9   -0.180006 -0.393752 -0.864255 -0.426657          2\n",
       "10   1.266074 -0.665088  0.453533  0.059479          2\n",
       "11   1.670737  0.560394 -1.020168 -0.178515          2\n",
       "12  -1.127417 -0.968982 -0.611645 -1.163111          2\n",
       "13   1.080093 -0.486679  0.649528 -0.533559          2\n",
       "14   0.583540  0.553393 -0.430647 -1.053720          2\n",
       "15   3.145437  0.667278  0.708087  1.067254          0\n",
       "16   0.209345  0.690214  0.230509 -1.091104          2\n",
       "17  -2.679195  0.391235  0.139349  0.321834          1\n",
       "18  -0.157595  0.777245  0.269734 -1.046412          2\n",
       "19  -0.794531 -0.123174 -0.435886 -0.708757          2\n",
       "20   0.997787 -0.966161  1.584872 -0.677552          2\n",
       "21  -0.881545  0.461932  0.620368  0.384517          1\n",
       "22   0.141884 -2.146022  0.183137 -0.178092          2\n",
       "23   2.459953  0.021044 -3.074741  0.860320          0\n",
       "24   0.905430  0.026819  0.450745 -1.002968          2\n",
       "25  -3.125200  0.023315  0.410699  1.096936          1\n",
       "26  -2.895611 -0.419723  1.434451  1.773143          1\n",
       "27  -0.584244  0.888586  0.472592 -0.809250          2\n",
       "28  -2.814184  0.054609  0.238777  0.580951          1\n",
       "29   2.543935 -1.726562  0.421128  1.327507          0\n",
       "..        ...       ...       ...       ...        ...\n",
       "137 -1.192987 -0.557571  0.721908  0.537899          1\n",
       "138  1.917223 -0.428665 -0.161061 -0.465325          0\n",
       "139  2.017891 -1.789472  0.360344  0.264600          0\n",
       "140 -0.571889 -0.978767 -1.739270 -1.360112          2\n",
       "141  0.024184 -0.020816 -0.007853 -1.215981          2\n",
       "142 -2.316482 -0.761420 -0.706209  0.498155          1\n",
       "143  0.172376 -0.093440 -0.011311 -0.380207          2\n",
       "144  2.817276 -0.919824  0.096053  1.250517          0\n",
       "145  4.087927 -0.431372  0.292454  2.307296          0\n",
       "146 -1.243341 -0.023126  0.173025 -0.496293          2\n",
       "147 -2.555322 -0.224784  0.053578  0.475616          1\n",
       "148  0.924634  0.825687 -0.384426 -1.582161          2\n",
       "149 -2.363374 -1.155928 -0.272332  1.122420          1\n",
       "150 -2.000656  0.943569  1.194488  0.551456          1\n",
       "151 -0.756848 -0.097972  0.380059 -0.853472          2\n",
       "152  0.602077  0.172077  0.231449 -1.125839          2\n",
       "153  0.401199 -1.412591 -0.250298 -0.555292          2\n",
       "154 -0.468836  1.276337 -0.703492 -0.892749          2\n",
       "155 -2.853673 -0.356843  0.723779  1.280859          1\n",
       "156  0.306435 -0.079141  0.163638 -0.915514          2\n",
       "157  2.427320  1.157104 -1.845482  0.321000          0\n",
       "158  2.067034 -1.540084  0.242033  0.794529          0\n",
       "159  2.644644 -2.991196  1.829989  2.768047          0\n",
       "160  0.617711 -1.430764  0.238559 -0.365984          2\n",
       "161 -0.850918 -0.641211 -0.593362 -0.725943          2\n",
       "162 -0.822887  0.629074  0.343214 -0.701375          2\n",
       "163 -0.537432 -1.177328 -2.922300 -0.126091          2\n",
       "164  0.502767  1.408012  0.322218 -1.116014          2\n",
       "165 -1.882505 -0.093454 -1.055348  0.056400          1\n",
       "166 -2.864009  0.483481 -0.228784  0.828041          1\n",
       "\n",
       "[167 rows x 5 columns]"
      ]
     },
     "execution_count": 45,
     "metadata": {},
     "output_type": "execute_result"
    }
   ],
   "source": [
    "dat4=pcs_df2\n",
    "dat4.index = pd.RangeIndex(len(dat4.index))\n",
    "dat_fin = pd.concat([dat4, pd.Series(model_clus2.labels_)], axis=1)\n",
    "dat_fin.columns = ['PC1', 'PC2','PC3','PC4','ClusterID']\n",
    "dat_fin"
   ]
  },
  {
   "cell_type": "code",
   "execution_count": 46,
   "metadata": {
    "scrolled": true
   },
   "outputs": [
    {
     "data": {
      "text/plain": [
       "2    86\n",
       "1    47\n",
       "0    31\n",
       "3     3\n",
       "Name: ClusterID, dtype: int64"
      ]
     },
     "execution_count": 46,
     "metadata": {},
     "output_type": "execute_result"
    }
   ],
   "source": [
    "dat_fin['ClusterID'].value_counts()"
   ]
  },
  {
   "cell_type": "code",
   "execution_count": 47,
   "metadata": {
    "scrolled": true
   },
   "outputs": [
    {
     "data": {
      "text/plain": [
       "<matplotlib.axes._subplots.AxesSubplot at 0x19c8955a860>"
      ]
     },
     "execution_count": 47,
     "metadata": {},
     "output_type": "execute_result"
    },
    {
     "data": {
      "image/png": "[encoded data removed]",
      "text/plain": [
       "<Figure size 432x288 with 1 Axes>"
      ]
     },
     "metadata": {
      "needs_background": "light"
     },
     "output_type": "display_data"
    }
   ],
   "source": [
    "sns.scatterplot(x='PC1',y='PC2',hue='ClusterID',legend='full',data=dat_fin,)"
   ]
  },
  {
   "cell_type": "code",
   "execution_count": 48,
   "metadata": {
    "scrolled": true
   },
   "outputs": [
    {
     "data": {
      "text/html": [
       "<div>\n",
       "<style scoped>\n",
       "    .dataframe tbody tr th:only-of-type {\n",
       "        vertical-align: middle;\n",
       "    }\n",
       "\n",
       "    .dataframe tbody tr th {\n",
       "        vertical-align: top;\n",
       "    }\n",
       "\n",
       "    .dataframe thead th {\n",
       "        text-align: right;\n",
       "    }\n",
       "</style>\n",
       "<table border=\"1\" class=\"dataframe\">\n",
       "  <thead>\n",
       "    <tr style=\"text-align: right;\">\n",
       "      <th></th>\n",
       "      <th>country</th>\n",
       "      <th>child_mort</th>\n",
       "      <th>exports</th>\n",
       "      <th>health</th>\n",
       "      <th>imports</th>\n",
       "      <th>income</th>\n",
       "      <th>inflation</th>\n",
       "      <th>life_expec</th>\n",
       "      <th>total_fer</th>\n",
       "      <th>gdpp</th>\n",
       "      <th>PC1</th>\n",
       "      <th>PC2</th>\n",
       "      <th>PC3</th>\n",
       "      <th>PC4</th>\n",
       "      <th>ClusterID</th>\n",
       "    </tr>\n",
       "  </thead>\n",
       "  <tbody>\n",
       "    <tr>\n",
       "      <th>0</th>\n",
       "      <td>Afghanistan</td>\n",
       "      <td>90.2</td>\n",
       "      <td>10.0</td>\n",
       "      <td>7.58</td>\n",
       "      <td>44.9</td>\n",
       "      <td>1610</td>\n",
       "      <td>9.44</td>\n",
       "      <td>56.2</td>\n",
       "      <td>5.82</td>\n",
       "      <td>553</td>\n",
       "      <td>-2.913787</td>\n",
       "      <td>0.088354</td>\n",
       "      <td>0.721003</td>\n",
       "      <td>0.996699</td>\n",
       "      <td>1</td>\n",
       "    </tr>\n",
       "    <tr>\n",
       "      <th>1</th>\n",
       "      <td>Albania</td>\n",
       "      <td>16.6</td>\n",
       "      <td>28.0</td>\n",
       "      <td>6.55</td>\n",
       "      <td>48.6</td>\n",
       "      <td>9930</td>\n",
       "      <td>4.49</td>\n",
       "      <td>76.3</td>\n",
       "      <td>1.65</td>\n",
       "      <td>4090</td>\n",
       "      <td>0.429358</td>\n",
       "      <td>-0.587859</td>\n",
       "      <td>0.321052</td>\n",
       "      <td>-1.171193</td>\n",
       "      <td>2</td>\n",
       "    </tr>\n",
       "    <tr>\n",
       "      <th>2</th>\n",
       "      <td>Algeria</td>\n",
       "      <td>27.3</td>\n",
       "      <td>38.4</td>\n",
       "      <td>4.17</td>\n",
       "      <td>31.4</td>\n",
       "      <td>12900</td>\n",
       "      <td>16.10</td>\n",
       "      <td>76.5</td>\n",
       "      <td>2.89</td>\n",
       "      <td>4460</td>\n",
       "      <td>-0.282988</td>\n",
       "      <td>-0.446657</td>\n",
       "      <td>-1.225135</td>\n",
       "      <td>-0.850127</td>\n",
       "      <td>2</td>\n",
       "    </tr>\n",
       "    <tr>\n",
       "      <th>3</th>\n",
       "      <td>Angola</td>\n",
       "      <td>119.0</td>\n",
       "      <td>62.3</td>\n",
       "      <td>2.85</td>\n",
       "      <td>42.9</td>\n",
       "      <td>5900</td>\n",
       "      <td>22.40</td>\n",
       "      <td>60.1</td>\n",
       "      <td>6.16</td>\n",
       "      <td>3530</td>\n",
       "      <td>-2.930969</td>\n",
       "      <td>1.699437</td>\n",
       "      <td>-1.521734</td>\n",
       "      <td>0.875966</td>\n",
       "      <td>1</td>\n",
       "    </tr>\n",
       "    <tr>\n",
       "      <th>4</th>\n",
       "      <td>Antigua and Barbuda</td>\n",
       "      <td>10.3</td>\n",
       "      <td>45.5</td>\n",
       "      <td>6.03</td>\n",
       "      <td>58.9</td>\n",
       "      <td>19100</td>\n",
       "      <td>1.44</td>\n",
       "      <td>76.8</td>\n",
       "      <td>2.13</td>\n",
       "      <td>12200</td>\n",
       "      <td>1.031988</td>\n",
       "      <td>0.130488</td>\n",
       "      <td>0.192922</td>\n",
       "      <td>-0.844808</td>\n",
       "      <td>2</td>\n",
       "    </tr>\n",
       "  </tbody>\n",
       "</table>\n",
       "</div>"
      ],
      "text/plain": [
       "               country  child_mort  exports  health  imports  income  \\\n",
       "0          Afghanistan        90.2     10.0    7.58     44.9    1610   \n",
       "1              Albania        16.6     28.0    6.55     48.6    9930   \n",
       "2              Algeria        27.3     38.4    4.17     31.4   12900   \n",
       "3               Angola       119.0     62.3    2.85     42.9    5900   \n",
       "4  Antigua and Barbuda        10.3     45.5    6.03     58.9   19100   \n",
       "\n",
       "   inflation  life_expec  total_fer   gdpp       PC1       PC2       PC3  \\\n",
       "0       9.44        56.2       5.82    553 -2.913787  0.088354  0.721003   \n",
       "1       4.49        76.3       1.65   4090  0.429358 -0.587859  0.321052   \n",
       "2      16.10        76.5       2.89   4460 -0.282988 -0.446657 -1.225135   \n",
       "3      22.40        60.1       6.16   3530 -2.930969  1.699437 -1.521734   \n",
       "4       1.44        76.8       2.13  12200  1.031988  0.130488  0.192922   \n",
       "\n",
       "        PC4  ClusterID  \n",
       "0  0.996699          1  \n",
       "1 -1.171193          2  \n",
       "2 -0.850127          2  \n",
       "3  0.875966          1  \n",
       "4 -0.844808          2  "
      ]
     },
     "execution_count": 48,
     "metadata": {},
     "output_type": "execute_result"
    }
   ],
   "source": [
    "dat_clustered=pd.merge(df_country,dat_fin, left_index=True,right_index=True)\n",
    "dat_clustered.head()"
   ]
  },
  {
   "cell_type": "code",
   "execution_count": 49,
   "metadata": {
    "scrolled": true
   },
   "outputs": [
    {
     "data": {
      "text/html": [
       "<div>\n",
       "<style scoped>\n",
       "    .dataframe tbody tr th:only-of-type {\n",
       "        vertical-align: middle;\n",
       "    }\n",
       "\n",
       "    .dataframe tbody tr th {\n",
       "        vertical-align: top;\n",
       "    }\n",
       "\n",
       "    .dataframe thead th {\n",
       "        text-align: right;\n",
       "    }\n",
       "</style>\n",
       "<table border=\"1\" class=\"dataframe\">\n",
       "  <thead>\n",
       "    <tr style=\"text-align: right;\">\n",
       "      <th></th>\n",
       "      <th>country</th>\n",
       "      <th>child_mort</th>\n",
       "      <th>exports</th>\n",
       "      <th>health</th>\n",
       "      <th>imports</th>\n",
       "      <th>income</th>\n",
       "      <th>inflation</th>\n",
       "      <th>life_expec</th>\n",
       "      <th>total_fer</th>\n",
       "      <th>gdpp</th>\n",
       "      <th>ClusterID</th>\n",
       "    </tr>\n",
       "  </thead>\n",
       "  <tbody>\n",
       "    <tr>\n",
       "      <th>0</th>\n",
       "      <td>Afghanistan</td>\n",
       "      <td>90.2</td>\n",
       "      <td>10.0</td>\n",
       "      <td>7.58</td>\n",
       "      <td>44.9</td>\n",
       "      <td>1610</td>\n",
       "      <td>9.44</td>\n",
       "      <td>56.2</td>\n",
       "      <td>5.82</td>\n",
       "      <td>553</td>\n",
       "      <td>1</td>\n",
       "    </tr>\n",
       "    <tr>\n",
       "      <th>1</th>\n",
       "      <td>Albania</td>\n",
       "      <td>16.6</td>\n",
       "      <td>28.0</td>\n",
       "      <td>6.55</td>\n",
       "      <td>48.6</td>\n",
       "      <td>9930</td>\n",
       "      <td>4.49</td>\n",
       "      <td>76.3</td>\n",
       "      <td>1.65</td>\n",
       "      <td>4090</td>\n",
       "      <td>2</td>\n",
       "    </tr>\n",
       "    <tr>\n",
       "      <th>2</th>\n",
       "      <td>Algeria</td>\n",
       "      <td>27.3</td>\n",
       "      <td>38.4</td>\n",
       "      <td>4.17</td>\n",
       "      <td>31.4</td>\n",
       "      <td>12900</td>\n",
       "      <td>16.10</td>\n",
       "      <td>76.5</td>\n",
       "      <td>2.89</td>\n",
       "      <td>4460</td>\n",
       "      <td>2</td>\n",
       "    </tr>\n",
       "    <tr>\n",
       "      <th>3</th>\n",
       "      <td>Angola</td>\n",
       "      <td>119.0</td>\n",
       "      <td>62.3</td>\n",
       "      <td>2.85</td>\n",
       "      <td>42.9</td>\n",
       "      <td>5900</td>\n",
       "      <td>22.40</td>\n",
       "      <td>60.1</td>\n",
       "      <td>6.16</td>\n",
       "      <td>3530</td>\n",
       "      <td>1</td>\n",
       "    </tr>\n",
       "    <tr>\n",
       "      <th>4</th>\n",
       "      <td>Antigua and Barbuda</td>\n",
       "      <td>10.3</td>\n",
       "      <td>45.5</td>\n",
       "      <td>6.03</td>\n",
       "      <td>58.9</td>\n",
       "      <td>19100</td>\n",
       "      <td>1.44</td>\n",
       "      <td>76.8</td>\n",
       "      <td>2.13</td>\n",
       "      <td>12200</td>\n",
       "      <td>2</td>\n",
       "    </tr>\n",
       "  </tbody>\n",
       "</table>\n",
       "</div>"
      ],
      "text/plain": [
       "               country  child_mort  exports  health  imports  income  \\\n",
       "0          Afghanistan        90.2     10.0    7.58     44.9    1610   \n",
       "1              Albania        16.6     28.0    6.55     48.6    9930   \n",
       "2              Algeria        27.3     38.4    4.17     31.4   12900   \n",
       "3               Angola       119.0     62.3    2.85     42.9    5900   \n",
       "4  Antigua and Barbuda        10.3     45.5    6.03     58.9   19100   \n",
       "\n",
       "   inflation  life_expec  total_fer   gdpp  ClusterID  \n",
       "0       9.44        56.2       5.82    553          1  \n",
       "1       4.49        76.3       1.65   4090          2  \n",
       "2      16.10        76.5       2.89   4460          2  \n",
       "3      22.40        60.1       6.16   3530          1  \n",
       "4       1.44        76.8       2.13  12200          2  "
      ]
     },
     "execution_count": 49,
     "metadata": {},
     "output_type": "execute_result"
    }
   ],
   "source": [
    "dat_fin_clustered=dat_clustered.drop(['PC1','PC2','PC3','PC4'],axis=1)\n",
    "dat_fin_clustered.head()"
   ]
  },
  {
   "cell_type": "code",
   "execution_count": 50,
   "metadata": {
    "scrolled": true
   },
   "outputs": [],
   "source": [
    "avg_child_mort = pd.DataFrame(dat_fin_clustered.groupby([\"ClusterID\"]).child_mort.mean())"
   ]
  },
  {
   "cell_type": "code",
   "execution_count": 51,
   "metadata": {
    "scrolled": true
   },
   "outputs": [
    {
     "data": {
      "text/html": [
       "<div>\n",
       "<style scoped>\n",
       "    .dataframe tbody tr th:only-of-type {\n",
       "        vertical-align: middle;\n",
       "    }\n",
       "\n",
       "    .dataframe tbody tr th {\n",
       "        vertical-align: top;\n",
       "    }\n",
       "\n",
       "    .dataframe thead th {\n",
       "        text-align: right;\n",
       "    }\n",
       "</style>\n",
       "<table border=\"1\" class=\"dataframe\">\n",
       "  <thead>\n",
       "    <tr style=\"text-align: right;\">\n",
       "      <th></th>\n",
       "      <th>child_mort</th>\n",
       "    </tr>\n",
       "    <tr>\n",
       "      <th>ClusterID</th>\n",
       "      <th></th>\n",
       "    </tr>\n",
       "  </thead>\n",
       "  <tbody>\n",
       "    <tr>\n",
       "      <th>0</th>\n",
       "      <td>4.903226</td>\n",
       "    </tr>\n",
       "    <tr>\n",
       "      <th>1</th>\n",
       "      <td>92.961702</td>\n",
       "    </tr>\n",
       "    <tr>\n",
       "      <th>2</th>\n",
       "      <td>21.598837</td>\n",
       "    </tr>\n",
       "    <tr>\n",
       "      <th>3</th>\n",
       "      <td>4.133333</td>\n",
       "    </tr>\n",
       "  </tbody>\n",
       "</table>\n",
       "</div>"
      ],
      "text/plain": [
       "           child_mort\n",
       "ClusterID            \n",
       "0            4.903226\n",
       "1           92.961702\n",
       "2           21.598837\n",
       "3            4.133333"
      ]
     },
     "execution_count": 51,
     "metadata": {},
     "output_type": "execute_result"
    }
   ],
   "source": [
    "avg_child_mort"
   ]
  },
  {
   "cell_type": "code",
   "execution_count": 52,
   "metadata": {
    "scrolled": true
   },
   "outputs": [],
   "source": [
    "avg_gdpp = pd.DataFrame(dat_fin_clustered.groupby([\"ClusterID\"]).gdpp.mean())"
   ]
  },
  {
   "cell_type": "code",
   "execution_count": 53,
   "metadata": {
    "scrolled": true
   },
   "outputs": [
    {
     "data": {
      "text/html": [
       "<div>\n",
       "<style scoped>\n",
       "    .dataframe tbody tr th:only-of-type {\n",
       "        vertical-align: middle;\n",
       "    }\n",
       "\n",
       "    .dataframe tbody tr th {\n",
       "        vertical-align: top;\n",
       "    }\n",
       "\n",
       "    .dataframe thead th {\n",
       "        text-align: right;\n",
       "    }\n",
       "</style>\n",
       "<table border=\"1\" class=\"dataframe\">\n",
       "  <thead>\n",
       "    <tr style=\"text-align: right;\">\n",
       "      <th></th>\n",
       "      <th>gdpp</th>\n",
       "    </tr>\n",
       "    <tr>\n",
       "      <th>ClusterID</th>\n",
       "      <th></th>\n",
       "    </tr>\n",
       "  </thead>\n",
       "  <tbody>\n",
       "    <tr>\n",
       "      <th>0</th>\n",
       "      <td>42574.193548</td>\n",
       "    </tr>\n",
       "    <tr>\n",
       "      <th>1</th>\n",
       "      <td>1922.382979</td>\n",
       "    </tr>\n",
       "    <tr>\n",
       "      <th>2</th>\n",
       "      <td>6769.325581</td>\n",
       "    </tr>\n",
       "    <tr>\n",
       "      <th>3</th>\n",
       "      <td>57566.666667</td>\n",
       "    </tr>\n",
       "  </tbody>\n",
       "</table>\n",
       "</div>"
      ],
      "text/plain": [
       "                   gdpp\n",
       "ClusterID              \n",
       "0          42574.193548\n",
       "1           1922.382979\n",
       "2           6769.325581\n",
       "3          57566.666667"
      ]
     },
     "execution_count": 53,
     "metadata": {},
     "output_type": "execute_result"
    }
   ],
   "source": [
    "avg_gdpp"
   ]
  },
  {
   "cell_type": "code",
   "execution_count": 54,
   "metadata": {
    "scrolled": true
   },
   "outputs": [],
   "source": [
    "avg_income = pd.DataFrame(dat_fin_clustered.groupby([\"ClusterID\"]).income.mean())"
   ]
  },
  {
   "cell_type": "code",
   "execution_count": 55,
   "metadata": {
    "scrolled": true
   },
   "outputs": [
    {
     "data": {
      "text/html": [
       "<div>\n",
       "<style scoped>\n",
       "    .dataframe tbody tr th:only-of-type {\n",
       "        vertical-align: middle;\n",
       "    }\n",
       "\n",
       "    .dataframe tbody tr th {\n",
       "        vertical-align: top;\n",
       "    }\n",
       "\n",
       "    .dataframe thead th {\n",
       "        text-align: right;\n",
       "    }\n",
       "</style>\n",
       "<table border=\"1\" class=\"dataframe\">\n",
       "  <thead>\n",
       "    <tr style=\"text-align: right;\">\n",
       "      <th></th>\n",
       "      <th>income</th>\n",
       "    </tr>\n",
       "    <tr>\n",
       "      <th>ClusterID</th>\n",
       "      <th></th>\n",
       "    </tr>\n",
       "  </thead>\n",
       "  <tbody>\n",
       "    <tr>\n",
       "      <th>0</th>\n",
       "      <td>44703.225806</td>\n",
       "    </tr>\n",
       "    <tr>\n",
       "      <th>1</th>\n",
       "      <td>3942.404255</td>\n",
       "    </tr>\n",
       "    <tr>\n",
       "      <th>2</th>\n",
       "      <td>12790.348837</td>\n",
       "    </tr>\n",
       "    <tr>\n",
       "      <th>3</th>\n",
       "      <td>64033.333333</td>\n",
       "    </tr>\n",
       "  </tbody>\n",
       "</table>\n",
       "</div>"
      ],
      "text/plain": [
       "                 income\n",
       "ClusterID              \n",
       "0          44703.225806\n",
       "1           3942.404255\n",
       "2          12790.348837\n",
       "3          64033.333333"
      ]
     },
     "execution_count": 55,
     "metadata": {},
     "output_type": "execute_result"
    }
   ],
   "source": [
    "avg_income"
   ]
  },
  {
   "cell_type": "markdown",
   "metadata": {},
   "source": [
    "### HIERIEIRCHAL CLUSTERING"
   ]
  },
  {
   "cell_type": "code",
   "execution_count": 56,
   "metadata": {
    "scrolled": true
   },
   "outputs": [
    {
     "data": {
      "image/png": "[encoded data removed]",
      "text/plain": [
       "<Figure size 432x288 with 1 Axes>"
      ]
     },
     "metadata": {
      "needs_background": "light"
     },
     "output_type": "display_data"
    }
   ],
   "source": [
    "mergings = linkage(df_pca, method = \"single\", metric='euclidean')\n",
    "dendrogram(mergings)\n",
    "plt.show()"
   ]
  },
  {
   "cell_type": "code",
   "execution_count": 57,
   "metadata": {
    "scrolled": true
   },
   "outputs": [
    {
     "data": {
      "image/png": "[encoded data removed]",
      "text/plain": [
       "<Figure size 432x288 with 1 Axes>"
      ]
     },
     "metadata": {
      "needs_background": "light"
     },
     "output_type": "display_data"
    }
   ],
   "source": [
    "mergings = linkage(df_pca, method = \"complete\", metric='euclidean')\n",
    "dendrogram(mergings)\n",
    "plt.show()"
   ]
  },
  {
   "cell_type": "code",
   "execution_count": 58,
   "metadata": {
    "scrolled": true
   },
   "outputs": [
    {
     "data": {
      "text/html": [
       "<div>\n",
       "<style scoped>\n",
       "    .dataframe tbody tr th:only-of-type {\n",
       "        vertical-align: middle;\n",
       "    }\n",
       "\n",
       "    .dataframe tbody tr th {\n",
       "        vertical-align: top;\n",
       "    }\n",
       "\n",
       "    .dataframe thead th {\n",
       "        text-align: right;\n",
       "    }\n",
       "</style>\n",
       "<table border=\"1\" class=\"dataframe\">\n",
       "  <thead>\n",
       "    <tr style=\"text-align: right;\">\n",
       "      <th></th>\n",
       "      <th>PC1</th>\n",
       "      <th>PC2</th>\n",
       "      <th>PC3</th>\n",
       "      <th>PC4</th>\n",
       "      <th>ClusterID</th>\n",
       "    </tr>\n",
       "  </thead>\n",
       "  <tbody>\n",
       "    <tr>\n",
       "      <th>0</th>\n",
       "      <td>-2.913787</td>\n",
       "      <td>0.088354</td>\n",
       "      <td>0.721003</td>\n",
       "      <td>0.996699</td>\n",
       "      <td>0</td>\n",
       "    </tr>\n",
       "    <tr>\n",
       "      <th>1</th>\n",
       "      <td>0.429358</td>\n",
       "      <td>-0.587859</td>\n",
       "      <td>0.321052</td>\n",
       "      <td>-1.171193</td>\n",
       "      <td>0</td>\n",
       "    </tr>\n",
       "    <tr>\n",
       "      <th>2</th>\n",
       "      <td>-0.282988</td>\n",
       "      <td>-0.446657</td>\n",
       "      <td>-1.225135</td>\n",
       "      <td>-0.850127</td>\n",
       "      <td>0</td>\n",
       "    </tr>\n",
       "    <tr>\n",
       "      <th>3</th>\n",
       "      <td>-2.930969</td>\n",
       "      <td>1.699437</td>\n",
       "      <td>-1.521734</td>\n",
       "      <td>0.875966</td>\n",
       "      <td>0</td>\n",
       "    </tr>\n",
       "    <tr>\n",
       "      <th>4</th>\n",
       "      <td>1.031988</td>\n",
       "      <td>0.130488</td>\n",
       "      <td>0.192922</td>\n",
       "      <td>-0.844808</td>\n",
       "      <td>0</td>\n",
       "    </tr>\n",
       "  </tbody>\n",
       "</table>\n",
       "</div>"
      ],
      "text/plain": [
       "        PC1       PC2       PC3       PC4  ClusterID\n",
       "0 -2.913787  0.088354  0.721003  0.996699          0\n",
       "1  0.429358 -0.587859  0.321052 -1.171193          0\n",
       "2 -0.282988 -0.446657 -1.225135 -0.850127          0\n",
       "3 -2.930969  1.699437 -1.521734  0.875966          0\n",
       "4  1.031988  0.130488  0.192922 -0.844808          0"
      ]
     },
     "execution_count": 58,
     "metadata": {},
     "output_type": "execute_result"
    }
   ],
   "source": [
    "clusterCut = pd.Series(cut_tree(mergings, n_clusters =4).reshape(-1,))\n",
    "df_pca_hc = pd.concat([pd.DataFrame(df_pca),clusterCut ], axis=1)\n",
    "df_pca_hc.columns = [\"PC1\",\"PC2\",\"PC3\",\"PC4\",\"ClusterID\"]\n",
    "df_pca_hc.head()"
   ]
  },
  {
   "cell_type": "code",
   "execution_count": 59,
   "metadata": {
    "scrolled": true
   },
   "outputs": [
    {
     "data": {
      "text/html": [
       "<div>\n",
       "<style scoped>\n",
       "    .dataframe tbody tr th:only-of-type {\n",
       "        vertical-align: middle;\n",
       "    }\n",
       "\n",
       "    .dataframe tbody tr th {\n",
       "        vertical-align: top;\n",
       "    }\n",
       "\n",
       "    .dataframe thead th {\n",
       "        text-align: right;\n",
       "    }\n",
       "</style>\n",
       "<table border=\"1\" class=\"dataframe\">\n",
       "  <thead>\n",
       "    <tr style=\"text-align: right;\">\n",
       "      <th></th>\n",
       "      <th>country</th>\n",
       "      <th>PC1</th>\n",
       "      <th>PC2</th>\n",
       "      <th>PC3</th>\n",
       "      <th>PC4</th>\n",
       "      <th>ClusterID</th>\n",
       "    </tr>\n",
       "  </thead>\n",
       "  <tbody>\n",
       "    <tr>\n",
       "      <th>0</th>\n",
       "      <td>Afghanistan</td>\n",
       "      <td>-2.913787</td>\n",
       "      <td>0.088354</td>\n",
       "      <td>0.721003</td>\n",
       "      <td>0.996699</td>\n",
       "      <td>0</td>\n",
       "    </tr>\n",
       "    <tr>\n",
       "      <th>1</th>\n",
       "      <td>Albania</td>\n",
       "      <td>0.429358</td>\n",
       "      <td>-0.587859</td>\n",
       "      <td>0.321052</td>\n",
       "      <td>-1.171193</td>\n",
       "      <td>0</td>\n",
       "    </tr>\n",
       "    <tr>\n",
       "      <th>2</th>\n",
       "      <td>Algeria</td>\n",
       "      <td>-0.282988</td>\n",
       "      <td>-0.446657</td>\n",
       "      <td>-1.225135</td>\n",
       "      <td>-0.850127</td>\n",
       "      <td>0</td>\n",
       "    </tr>\n",
       "    <tr>\n",
       "      <th>3</th>\n",
       "      <td>Angola</td>\n",
       "      <td>-2.930969</td>\n",
       "      <td>1.699437</td>\n",
       "      <td>-1.521734</td>\n",
       "      <td>0.875966</td>\n",
       "      <td>0</td>\n",
       "    </tr>\n",
       "    <tr>\n",
       "      <th>4</th>\n",
       "      <td>Antigua and Barbuda</td>\n",
       "      <td>1.031988</td>\n",
       "      <td>0.130488</td>\n",
       "      <td>0.192922</td>\n",
       "      <td>-0.844808</td>\n",
       "      <td>0</td>\n",
       "    </tr>\n",
       "  </tbody>\n",
       "</table>\n",
       "</div>"
      ],
      "text/plain": [
       "               country       PC1       PC2       PC3       PC4  ClusterID\n",
       "0          Afghanistan -2.913787  0.088354  0.721003  0.996699          0\n",
       "1              Albania  0.429358 -0.587859  0.321052 -1.171193          0\n",
       "2              Algeria -0.282988 -0.446657 -1.225135 -0.850127          0\n",
       "3               Angola -2.930969  1.699437 -1.521734  0.875966          0\n",
       "4  Antigua and Barbuda  1.031988  0.130488  0.192922 -0.844808          0"
      ]
     },
     "execution_count": 59,
     "metadata": {},
     "output_type": "execute_result"
    }
   ],
   "source": [
    "pca_cluster_hc = pd.concat([df_country['country'],df_pca_hc], axis=1, join='outer', join_axes=None, ignore_index=False, keys=None, levels=None, names=None, verify_integrity=False, sort= False, copy=True)\n",
    "pca_cluster_hc.head()"
   ]
  },
  {
   "cell_type": "code",
   "execution_count": 60,
   "metadata": {
    "scrolled": true
   },
   "outputs": [
    {
     "data": {
      "text/html": [
       "<div>\n",
       "<style scoped>\n",
       "    .dataframe tbody tr th:only-of-type {\n",
       "        vertical-align: middle;\n",
       "    }\n",
       "\n",
       "    .dataframe tbody tr th {\n",
       "        vertical-align: top;\n",
       "    }\n",
       "\n",
       "    .dataframe thead th {\n",
       "        text-align: right;\n",
       "    }\n",
       "</style>\n",
       "<table border=\"1\" class=\"dataframe\">\n",
       "  <thead>\n",
       "    <tr style=\"text-align: right;\">\n",
       "      <th></th>\n",
       "      <th>country</th>\n",
       "      <th>ClusterID</th>\n",
       "      <th>child_mort</th>\n",
       "      <th>exports</th>\n",
       "      <th>health</th>\n",
       "      <th>imports</th>\n",
       "      <th>income</th>\n",
       "      <th>inflation</th>\n",
       "      <th>life_expec</th>\n",
       "      <th>total_fer</th>\n",
       "      <th>gdpp</th>\n",
       "    </tr>\n",
       "  </thead>\n",
       "  <tbody>\n",
       "    <tr>\n",
       "      <th>0</th>\n",
       "      <td>Afghanistan</td>\n",
       "      <td>0</td>\n",
       "      <td>90.2</td>\n",
       "      <td>10.0</td>\n",
       "      <td>7.58</td>\n",
       "      <td>44.9</td>\n",
       "      <td>1610</td>\n",
       "      <td>9.44</td>\n",
       "      <td>56.2</td>\n",
       "      <td>5.82</td>\n",
       "      <td>553</td>\n",
       "    </tr>\n",
       "    <tr>\n",
       "      <th>1</th>\n",
       "      <td>Albania</td>\n",
       "      <td>0</td>\n",
       "      <td>16.6</td>\n",
       "      <td>28.0</td>\n",
       "      <td>6.55</td>\n",
       "      <td>48.6</td>\n",
       "      <td>9930</td>\n",
       "      <td>4.49</td>\n",
       "      <td>76.3</td>\n",
       "      <td>1.65</td>\n",
       "      <td>4090</td>\n",
       "    </tr>\n",
       "    <tr>\n",
       "      <th>2</th>\n",
       "      <td>Algeria</td>\n",
       "      <td>0</td>\n",
       "      <td>27.3</td>\n",
       "      <td>38.4</td>\n",
       "      <td>4.17</td>\n",
       "      <td>31.4</td>\n",
       "      <td>12900</td>\n",
       "      <td>16.10</td>\n",
       "      <td>76.5</td>\n",
       "      <td>2.89</td>\n",
       "      <td>4460</td>\n",
       "    </tr>\n",
       "    <tr>\n",
       "      <th>3</th>\n",
       "      <td>Angola</td>\n",
       "      <td>0</td>\n",
       "      <td>119.0</td>\n",
       "      <td>62.3</td>\n",
       "      <td>2.85</td>\n",
       "      <td>42.9</td>\n",
       "      <td>5900</td>\n",
       "      <td>22.40</td>\n",
       "      <td>60.1</td>\n",
       "      <td>6.16</td>\n",
       "      <td>3530</td>\n",
       "    </tr>\n",
       "    <tr>\n",
       "      <th>4</th>\n",
       "      <td>Antigua and Barbuda</td>\n",
       "      <td>0</td>\n",
       "      <td>10.3</td>\n",
       "      <td>45.5</td>\n",
       "      <td>6.03</td>\n",
       "      <td>58.9</td>\n",
       "      <td>19100</td>\n",
       "      <td>1.44</td>\n",
       "      <td>76.8</td>\n",
       "      <td>2.13</td>\n",
       "      <td>12200</td>\n",
       "    </tr>\n",
       "  </tbody>\n",
       "</table>\n",
       "</div>"
      ],
      "text/plain": [
       "               country  ClusterID  child_mort  exports  health  imports  \\\n",
       "0          Afghanistan          0        90.2     10.0    7.58     44.9   \n",
       "1              Albania          0        16.6     28.0    6.55     48.6   \n",
       "2              Algeria          0        27.3     38.4    4.17     31.4   \n",
       "3               Angola          0       119.0     62.3    2.85     42.9   \n",
       "4  Antigua and Barbuda          0        10.3     45.5    6.03     58.9   \n",
       "\n",
       "   income  inflation  life_expec  total_fer   gdpp  \n",
       "0    1610       9.44        56.2       5.82    553  \n",
       "1    9930       4.49        76.3       1.65   4090  \n",
       "2   12900      16.10        76.5       2.89   4460  \n",
       "3    5900      22.40        60.1       6.16   3530  \n",
       "4   19100       1.44        76.8       2.13  12200  "
      ]
     },
     "execution_count": 60,
     "metadata": {},
     "output_type": "execute_result"
    }
   ],
   "source": [
    "clustered_data_hc = pca_cluster_hc[['country','ClusterID']].merge(df_country, on = 'country')\n",
    "clustered_data_hc.head()"
   ]
  },
  {
   "cell_type": "code",
   "execution_count": 61,
   "metadata": {
    "scrolled": true
   },
   "outputs": [
    {
     "data": {
      "text/plain": [
       "array(['Afghanistan', 'Albania', 'Algeria', 'Angola',\n",
       "       'Antigua and Barbuda', 'Argentina', 'Armenia', 'Azerbaijan',\n",
       "       'Bahamas', 'Bangladesh', 'Barbados', 'Belarus', 'Belize', 'Benin',\n",
       "       'Bhutan', 'Bolivia', 'Bosnia and Herzegovina', 'Botswana',\n",
       "       'Brazil', 'Bulgaria', 'Burkina Faso', 'Burundi', 'Cambodia',\n",
       "       'Cameroon', 'Cape Verde', 'Central African Republic', 'Chad',\n",
       "       'Chile', 'China', 'Colombia', 'Comoros', 'Congo, Dem. Rep.',\n",
       "       'Congo, Rep.', 'Costa Rica', \"Cote d'Ivoire\", 'Croatia', 'Cyprus',\n",
       "       'Czech Republic', 'Dominican Republic', 'Ecuador', 'Egypt',\n",
       "       'El Salvador', 'Equatorial Guinea', 'Eritrea', 'Estonia', 'Fiji',\n",
       "       'Gabon', 'Gambia', 'Georgia', 'Ghana', 'Grenada', 'Guatemala',\n",
       "       'Guinea', 'Guinea-Bissau', 'Guyana', 'Haiti', 'Hungary', 'India',\n",
       "       'Indonesia', 'Iran', 'Iraq', 'Jamaica', 'Jordan', 'Kazakhstan',\n",
       "       'Kenya', 'Kiribati', 'Kyrgyz Republic', 'Lao', 'Latvia', 'Lebanon',\n",
       "       'Lesotho', 'Liberia', 'Lithuania', 'Macedonia, FYR', 'Madagascar',\n",
       "       'Malawi', 'Malaysia', 'Maldives', 'Mali', 'Mauritania',\n",
       "       'Mauritius', 'Micronesia, Fed. Sts.', 'Moldova', 'Mongolia',\n",
       "       'Montenegro', 'Morocco', 'Mozambique', 'Myanmar', 'Namibia',\n",
       "       'Nepal', 'Niger', 'Pakistan', 'Panama', 'Paraguay', 'Peru',\n",
       "       'Philippines', 'Poland', 'Romania', 'Russia', 'Rwanda', 'Samoa',\n",
       "       'Senegal', 'Serbia', 'Sierra Leone', 'Slovak Republic', 'Slovenia',\n",
       "       'Solomon Islands', 'South Africa', 'South Korea', 'Sri Lanka',\n",
       "       'St. Vincent and the Grenadines', 'Sudan', 'Suriname',\n",
       "       'Tajikistan', 'Tanzania', 'Thailand', 'Timor-Leste', 'Togo',\n",
       "       'Tonga', 'Tunisia', 'Turkey', 'Turkmenistan', 'Uganda', 'Ukraine',\n",
       "       'Uruguay', 'Uzbekistan', 'Vanuatu', 'Venezuela', 'Vietnam',\n",
       "       'Yemen', 'Zambia'], dtype=object)"
      ]
     },
     "execution_count": 61,
     "metadata": {},
     "output_type": "execute_result"
    }
   ],
   "source": [
    "clustered_data_hc[clustered_data_hc.ClusterID == 0].country.values"
   ]
  },
  {
   "cell_type": "code",
   "execution_count": 62,
   "metadata": {
    "scrolled": true
   },
   "outputs": [
    {
     "data": {
      "text/plain": [
       "array([0, 1, 2, 3], dtype=int64)"
      ]
     },
     "execution_count": 62,
     "metadata": {},
     "output_type": "execute_result"
    }
   ],
   "source": [
    "pca_cluster_hc[\"ClusterID\"].unique()"
   ]
  },
  {
   "cell_type": "code",
   "execution_count": 63,
   "metadata": {
    "scrolled": true
   },
   "outputs": [],
   "source": [
    "hc_child_mort = pd.DataFrame(clustered_data_hc.groupby([\"ClusterID\"]).child_mort.mean())\n",
    "hc_exports = pd.DataFrame(clustered_data_hc.groupby([\"ClusterID\"]).exports.mean())\n",
    "hc_health = pd.DataFrame(clustered_data_hc.groupby([\"ClusterID\"]).health.mean())\n",
    "hc_imports = pd.DataFrame(clustered_data_hc.groupby([\"ClusterID\"]).imports.mean())\n",
    "hc_income = pd.DataFrame(clustered_data_hc.groupby([\"ClusterID\"]).income.mean())\n",
    "hc_inflation = pd.DataFrame(clustered_data_hc.groupby([\"ClusterID\"]).inflation.mean())\n",
    "hc_life_expec = pd.DataFrame(clustered_data_hc.groupby([\"ClusterID\"]).life_expec.mean())\n",
    "hc_total_fer = pd.DataFrame(clustered_data_hc.groupby([\"ClusterID\"]).total_fer.mean())\n",
    "hc_gdpp = pd.DataFrame(clustered_data_hc.groupby([\"ClusterID\"]).gdpp.mean())"
   ]
  },
  {
   "cell_type": "code",
   "execution_count": 64,
   "metadata": {
    "scrolled": true
   },
   "outputs": [
    {
     "data": {
      "text/html": [
       "<div>\n",
       "<style scoped>\n",
       "    .dataframe tbody tr th:only-of-type {\n",
       "        vertical-align: middle;\n",
       "    }\n",
       "\n",
       "    .dataframe tbody tr th {\n",
       "        vertical-align: top;\n",
       "    }\n",
       "\n",
       "    .dataframe thead th {\n",
       "        text-align: right;\n",
       "    }\n",
       "</style>\n",
       "<table border=\"1\" class=\"dataframe\">\n",
       "  <thead>\n",
       "    <tr style=\"text-align: right;\">\n",
       "      <th></th>\n",
       "      <th>ClusterId</th>\n",
       "      <th>child_mort</th>\n",
       "      <th>exports</th>\n",
       "      <th>health</th>\n",
       "      <th>imports</th>\n",
       "      <th>income</th>\n",
       "      <th>inflation</th>\n",
       "      <th>life_expec</th>\n",
       "      <th>total_fer</th>\n",
       "      <th>gdpp</th>\n",
       "    </tr>\n",
       "  </thead>\n",
       "  <tbody>\n",
       "    <tr>\n",
       "      <th>0</th>\n",
       "      <td>0</td>\n",
       "      <td>46.137405</td>\n",
       "      <td>36.311443</td>\n",
       "      <td>6.417634</td>\n",
       "      <td>46.126457</td>\n",
       "      <td>9310.022901</td>\n",
       "      <td>8.090450</td>\n",
       "      <td>68.164122</td>\n",
       "      <td>3.206794</td>\n",
       "      <td>5222.015267</td>\n",
       "    </tr>\n",
       "    <tr>\n",
       "      <th>1</th>\n",
       "      <td>1</td>\n",
       "      <td>6.138710</td>\n",
       "      <td>47.138710</td>\n",
       "      <td>8.666452</td>\n",
       "      <td>38.474194</td>\n",
       "      <td>45996.774194</td>\n",
       "      <td>4.274935</td>\n",
       "      <td>79.841935</td>\n",
       "      <td>1.937742</td>\n",
       "      <td>41777.419355</td>\n",
       "    </tr>\n",
       "    <tr>\n",
       "      <th>2</th>\n",
       "      <td>2</td>\n",
       "      <td>6.700000</td>\n",
       "      <td>155.450000</td>\n",
       "      <td>5.945000</td>\n",
       "      <td>144.500000</td>\n",
       "      <td>53125.000000</td>\n",
       "      <td>0.798500</td>\n",
       "      <td>79.425000</td>\n",
       "      <td>1.577500</td>\n",
       "      <td>45875.000000</td>\n",
       "    </tr>\n",
       "    <tr>\n",
       "      <th>3</th>\n",
       "      <td>3</td>\n",
       "      <td>130.000000</td>\n",
       "      <td>25.300000</td>\n",
       "      <td>5.070000</td>\n",
       "      <td>17.400000</td>\n",
       "      <td>5150.000000</td>\n",
       "      <td>104.000000</td>\n",
       "      <td>60.500000</td>\n",
       "      <td>5.840000</td>\n",
       "      <td>2330.000000</td>\n",
       "    </tr>\n",
       "  </tbody>\n",
       "</table>\n",
       "</div>"
      ],
      "text/plain": [
       "   ClusterId  child_mort     exports    health     imports        income  \\\n",
       "0          0   46.137405   36.311443  6.417634   46.126457   9310.022901   \n",
       "1          1    6.138710   47.138710  8.666452   38.474194  45996.774194   \n",
       "2          2    6.700000  155.450000  5.945000  144.500000  53125.000000   \n",
       "3          3  130.000000   25.300000  5.070000   17.400000   5150.000000   \n",
       "\n",
       "    inflation  life_expec  total_fer          gdpp  \n",
       "0    8.090450   68.164122   3.206794   5222.015267  \n",
       "1    4.274935   79.841935   1.937742  41777.419355  \n",
       "2    0.798500   79.425000   1.577500  45875.000000  \n",
       "3  104.000000   60.500000   5.840000   2330.000000  "
      ]
     },
     "execution_count": 64,
     "metadata": {},
     "output_type": "execute_result"
    }
   ],
   "source": [
    "df_Hcluster = pd.concat([pd.Series(list(range(0,4))), hc_child_mort,hc_exports, hc_health, hc_imports,\n",
    "               hc_income, hc_inflation, hc_life_expec,hc_total_fer,hc_gdpp], axis=1)\n",
    "df_Hcluster.columns = ['ClusterId','child_mort', 'exports', 'health', 'imports', 'income',\n",
    "       'inflation', 'life_expec', 'total_fer', 'gdpp']\n",
    "df_Hcluster"
   ]
  },
  {
   "cell_type": "code",
   "execution_count": 65,
   "metadata": {
    "scrolled": true
   },
   "outputs": [
    {
     "data": {
      "text/plain": [
       "<matplotlib.axes._subplots.AxesSubplot at 0x19c8994d278>"
      ]
     },
     "execution_count": 65,
     "metadata": {},
     "output_type": "execute_result"
    },
    {
     "data": {
      "image/png": "[encoded data removed]",
      "text/plain": [
       "<Figure size 432x288 with 1 Axes>"
      ]
     },
     "metadata": {
      "needs_background": "light"
     },
     "output_type": "display_data"
    }
   ],
   "source": [
    "sns.scatterplot(x='income',y='gdpp',data=clustered_data_hc)"
   ]
  },
  {
   "cell_type": "code",
   "execution_count": 66,
   "metadata": {
    "scrolled": true
   },
   "outputs": [
    {
     "data": {
      "image/png": "[encoded data removed]",
      "text/plain": [
       "<Figure size 1080x1080 with 9 Axes>"
      ]
     },
     "metadata": {
      "needs_background": "light"
     },
     "output_type": "display_data"
    }
   ],
   "source": [
    "fig, axs = plt.subplots(3,3,figsize = (15,15))\n",
    "\n",
    "j=0\n",
    "k=0\n",
    "for i in df_columns.columns:\n",
    "    sns.barplot(x=clustered_data_hc.ClusterID, y=df_Hcluster[i], ax = axs[j,k])\n",
    "    k+=1\n",
    "    if k==3:\n",
    "        j+=1\n",
    "        k=0\n",
    "plt.tight_layout()"
   ]
  },
  {
   "cell_type": "code",
   "execution_count": 67,
   "metadata": {},
   "outputs": [
    {
     "data": {
      "text/html": [
       "<div>\n",
       "<style scoped>\n",
       "    .dataframe tbody tr th:only-of-type {\n",
       "        vertical-align: middle;\n",
       "    }\n",
       "\n",
       "    .dataframe tbody tr th {\n",
       "        vertical-align: top;\n",
       "    }\n",
       "\n",
       "    .dataframe thead th {\n",
       "        text-align: right;\n",
       "    }\n",
       "</style>\n",
       "<table border=\"1\" class=\"dataframe\">\n",
       "  <thead>\n",
       "    <tr style=\"text-align: right;\">\n",
       "      <th></th>\n",
       "      <th>ClusterId</th>\n",
       "      <th>child_mort</th>\n",
       "      <th>exports</th>\n",
       "      <th>health</th>\n",
       "      <th>imports</th>\n",
       "      <th>income</th>\n",
       "      <th>inflation</th>\n",
       "      <th>life_expec</th>\n",
       "      <th>total_fer</th>\n",
       "      <th>gdpp</th>\n",
       "    </tr>\n",
       "  </thead>\n",
       "  <tbody>\n",
       "    <tr>\n",
       "      <th>0</th>\n",
       "      <td>0</td>\n",
       "      <td>46.137405</td>\n",
       "      <td>36.311443</td>\n",
       "      <td>6.417634</td>\n",
       "      <td>46.126457</td>\n",
       "      <td>9310.022901</td>\n",
       "      <td>8.090450</td>\n",
       "      <td>68.164122</td>\n",
       "      <td>3.206794</td>\n",
       "      <td>5222.015267</td>\n",
       "    </tr>\n",
       "    <tr>\n",
       "      <th>1</th>\n",
       "      <td>1</td>\n",
       "      <td>6.138710</td>\n",
       "      <td>47.138710</td>\n",
       "      <td>8.666452</td>\n",
       "      <td>38.474194</td>\n",
       "      <td>45996.774194</td>\n",
       "      <td>4.274935</td>\n",
       "      <td>79.841935</td>\n",
       "      <td>1.937742</td>\n",
       "      <td>41777.419355</td>\n",
       "    </tr>\n",
       "    <tr>\n",
       "      <th>2</th>\n",
       "      <td>2</td>\n",
       "      <td>6.700000</td>\n",
       "      <td>155.450000</td>\n",
       "      <td>5.945000</td>\n",
       "      <td>144.500000</td>\n",
       "      <td>53125.000000</td>\n",
       "      <td>0.798500</td>\n",
       "      <td>79.425000</td>\n",
       "      <td>1.577500</td>\n",
       "      <td>45875.000000</td>\n",
       "    </tr>\n",
       "    <tr>\n",
       "      <th>3</th>\n",
       "      <td>3</td>\n",
       "      <td>130.000000</td>\n",
       "      <td>25.300000</td>\n",
       "      <td>5.070000</td>\n",
       "      <td>17.400000</td>\n",
       "      <td>5150.000000</td>\n",
       "      <td>104.000000</td>\n",
       "      <td>60.500000</td>\n",
       "      <td>5.840000</td>\n",
       "      <td>2330.000000</td>\n",
       "    </tr>\n",
       "  </tbody>\n",
       "</table>\n",
       "</div>"
      ],
      "text/plain": [
       "   ClusterId  child_mort     exports    health     imports        income  \\\n",
       "0          0   46.137405   36.311443  6.417634   46.126457   9310.022901   \n",
       "1          1    6.138710   47.138710  8.666452   38.474194  45996.774194   \n",
       "2          2    6.700000  155.450000  5.945000  144.500000  53125.000000   \n",
       "3          3  130.000000   25.300000  5.070000   17.400000   5150.000000   \n",
       "\n",
       "    inflation  life_expec  total_fer          gdpp  \n",
       "0    8.090450   68.164122   3.206794   5222.015267  \n",
       "1    4.274935   79.841935   1.937742  41777.419355  \n",
       "2    0.798500   79.425000   1.577500  45875.000000  \n",
       "3  104.000000   60.500000   5.840000   2330.000000  "
      ]
     },
     "execution_count": 67,
     "metadata": {},
     "output_type": "execute_result"
    }
   ],
   "source": [
    "df_Hcluster"
   ]
  },
  {
   "cell_type": "code",
   "execution_count": 68,
   "metadata": {},
   "outputs": [
    {
     "data": {
      "text/plain": [
       "array(['Afghanistan', 'Benin', 'Burkina Faso', 'Burundi',\n",
       "       'Central African Republic', 'Chad', 'Congo, Dem. Rep.', 'Guinea',\n",
       "       'Guinea-Bissau', 'Haiti', 'Malawi', 'Mali', 'Mozambique', 'Niger',\n",
       "       'Sierra Leone', 'Togo'], dtype=object)"
      ]
     },
     "execution_count": 68,
     "metadata": {},
     "output_type": "execute_result"
    }
   ],
   "source": [
    "clustered_data_hc[(clustered_data_hc['child_mort']>90) & (clustered_data_hc['gdpp']<1000) & (clustered_data_hc['income']<3000)].country.values"
   ]
  },
  {
   "cell_type": "code",
   "execution_count": null,
   "metadata": {},
   "outputs": [],
   "source": []
  }
 ],
 "metadata": {
  "kernelspec": {
   "display_name": "Python 3",
   "language": "python",
   "name": "python3"
  },
  "language_info": {
   "codemirror_mode": {
    "name": "ipython",
    "version": 3
   },
   "file_extension": ".py",
   "mimetype": "text/x-python",
   "name": "python",
   "nbconvert_exporter": "python",
   "pygments_lexer": "ipython3",
   "version": "3.7.3"
  }
 },
 "nbformat": 4,
 "nbformat_minor": 2
}
